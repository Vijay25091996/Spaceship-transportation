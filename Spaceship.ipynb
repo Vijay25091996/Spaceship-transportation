{
 "cells": [
  {
   "cell_type": "code",
   "execution_count": 351,
   "id": "c0ef3ff5",
   "metadata": {},
   "outputs": [],
   "source": [
    "import pandas as pd\n",
    "import numpy as np\n",
    "import matplotlib.pyplot as plt\n",
    "%matplotlib inline"
   ]
  },
  {
   "cell_type": "code",
   "execution_count": 354,
   "id": "a74fc58b",
   "metadata": {},
   "outputs": [
    {
     "data": {
      "text/html": [
       "<div>\n",
       "<style scoped>\n",
       "    .dataframe tbody tr th:only-of-type {\n",
       "        vertical-align: middle;\n",
       "    }\n",
       "\n",
       "    .dataframe tbody tr th {\n",
       "        vertical-align: top;\n",
       "    }\n",
       "\n",
       "    .dataframe thead th {\n",
       "        text-align: right;\n",
       "    }\n",
       "</style>\n",
       "<table border=\"1\" class=\"dataframe\">\n",
       "  <thead>\n",
       "    <tr style=\"text-align: right;\">\n",
       "      <th></th>\n",
       "      <th>PassengerId</th>\n",
       "      <th>HomePlanet</th>\n",
       "      <th>CryoSleep</th>\n",
       "      <th>Cabin</th>\n",
       "      <th>Destination</th>\n",
       "      <th>Age</th>\n",
       "      <th>VIP</th>\n",
       "      <th>RoomService</th>\n",
       "      <th>FoodCourt</th>\n",
       "      <th>ShoppingMall</th>\n",
       "      <th>Spa</th>\n",
       "      <th>VRDeck</th>\n",
       "      <th>Name</th>\n",
       "      <th>Transported</th>\n",
       "    </tr>\n",
       "  </thead>\n",
       "  <tbody>\n",
       "    <tr>\n",
       "      <th>0</th>\n",
       "      <td>0001_01</td>\n",
       "      <td>Europa</td>\n",
       "      <td>False</td>\n",
       "      <td>B/0/P</td>\n",
       "      <td>TRAPPIST-1e</td>\n",
       "      <td>39.0</td>\n",
       "      <td>False</td>\n",
       "      <td>0.0</td>\n",
       "      <td>0.0</td>\n",
       "      <td>0.0</td>\n",
       "      <td>0.0</td>\n",
       "      <td>0.0</td>\n",
       "      <td>Maham Ofracculy</td>\n",
       "      <td>False</td>\n",
       "    </tr>\n",
       "    <tr>\n",
       "      <th>1</th>\n",
       "      <td>0002_01</td>\n",
       "      <td>Earth</td>\n",
       "      <td>False</td>\n",
       "      <td>F/0/S</td>\n",
       "      <td>TRAPPIST-1e</td>\n",
       "      <td>24.0</td>\n",
       "      <td>False</td>\n",
       "      <td>109.0</td>\n",
       "      <td>9.0</td>\n",
       "      <td>25.0</td>\n",
       "      <td>549.0</td>\n",
       "      <td>44.0</td>\n",
       "      <td>Juanna Vines</td>\n",
       "      <td>True</td>\n",
       "    </tr>\n",
       "    <tr>\n",
       "      <th>2</th>\n",
       "      <td>0003_01</td>\n",
       "      <td>Europa</td>\n",
       "      <td>False</td>\n",
       "      <td>A/0/S</td>\n",
       "      <td>TRAPPIST-1e</td>\n",
       "      <td>58.0</td>\n",
       "      <td>True</td>\n",
       "      <td>43.0</td>\n",
       "      <td>3576.0</td>\n",
       "      <td>0.0</td>\n",
       "      <td>6715.0</td>\n",
       "      <td>49.0</td>\n",
       "      <td>Altark Susent</td>\n",
       "      <td>False</td>\n",
       "    </tr>\n",
       "    <tr>\n",
       "      <th>3</th>\n",
       "      <td>0003_02</td>\n",
       "      <td>Europa</td>\n",
       "      <td>False</td>\n",
       "      <td>A/0/S</td>\n",
       "      <td>TRAPPIST-1e</td>\n",
       "      <td>33.0</td>\n",
       "      <td>False</td>\n",
       "      <td>0.0</td>\n",
       "      <td>1283.0</td>\n",
       "      <td>371.0</td>\n",
       "      <td>3329.0</td>\n",
       "      <td>193.0</td>\n",
       "      <td>Solam Susent</td>\n",
       "      <td>False</td>\n",
       "    </tr>\n",
       "    <tr>\n",
       "      <th>4</th>\n",
       "      <td>0004_01</td>\n",
       "      <td>Earth</td>\n",
       "      <td>False</td>\n",
       "      <td>F/1/S</td>\n",
       "      <td>TRAPPIST-1e</td>\n",
       "      <td>16.0</td>\n",
       "      <td>False</td>\n",
       "      <td>303.0</td>\n",
       "      <td>70.0</td>\n",
       "      <td>151.0</td>\n",
       "      <td>565.0</td>\n",
       "      <td>2.0</td>\n",
       "      <td>Willy Santantines</td>\n",
       "      <td>True</td>\n",
       "    </tr>\n",
       "    <tr>\n",
       "      <th>...</th>\n",
       "      <td>...</td>\n",
       "      <td>...</td>\n",
       "      <td>...</td>\n",
       "      <td>...</td>\n",
       "      <td>...</td>\n",
       "      <td>...</td>\n",
       "      <td>...</td>\n",
       "      <td>...</td>\n",
       "      <td>...</td>\n",
       "      <td>...</td>\n",
       "      <td>...</td>\n",
       "      <td>...</td>\n",
       "      <td>...</td>\n",
       "      <td>...</td>\n",
       "    </tr>\n",
       "    <tr>\n",
       "      <th>8688</th>\n",
       "      <td>9276_01</td>\n",
       "      <td>Europa</td>\n",
       "      <td>False</td>\n",
       "      <td>A/98/P</td>\n",
       "      <td>55 Cancri e</td>\n",
       "      <td>41.0</td>\n",
       "      <td>True</td>\n",
       "      <td>0.0</td>\n",
       "      <td>6819.0</td>\n",
       "      <td>0.0</td>\n",
       "      <td>1643.0</td>\n",
       "      <td>74.0</td>\n",
       "      <td>Gravior Noxnuther</td>\n",
       "      <td>False</td>\n",
       "    </tr>\n",
       "    <tr>\n",
       "      <th>8689</th>\n",
       "      <td>9278_01</td>\n",
       "      <td>Earth</td>\n",
       "      <td>True</td>\n",
       "      <td>G/1499/S</td>\n",
       "      <td>PSO J318.5-22</td>\n",
       "      <td>18.0</td>\n",
       "      <td>False</td>\n",
       "      <td>0.0</td>\n",
       "      <td>0.0</td>\n",
       "      <td>0.0</td>\n",
       "      <td>0.0</td>\n",
       "      <td>0.0</td>\n",
       "      <td>Kurta Mondalley</td>\n",
       "      <td>False</td>\n",
       "    </tr>\n",
       "    <tr>\n",
       "      <th>8690</th>\n",
       "      <td>9279_01</td>\n",
       "      <td>Earth</td>\n",
       "      <td>False</td>\n",
       "      <td>G/1500/S</td>\n",
       "      <td>TRAPPIST-1e</td>\n",
       "      <td>26.0</td>\n",
       "      <td>False</td>\n",
       "      <td>0.0</td>\n",
       "      <td>0.0</td>\n",
       "      <td>1872.0</td>\n",
       "      <td>1.0</td>\n",
       "      <td>0.0</td>\n",
       "      <td>Fayey Connon</td>\n",
       "      <td>True</td>\n",
       "    </tr>\n",
       "    <tr>\n",
       "      <th>8691</th>\n",
       "      <td>9280_01</td>\n",
       "      <td>Europa</td>\n",
       "      <td>False</td>\n",
       "      <td>E/608/S</td>\n",
       "      <td>55 Cancri e</td>\n",
       "      <td>32.0</td>\n",
       "      <td>False</td>\n",
       "      <td>0.0</td>\n",
       "      <td>1049.0</td>\n",
       "      <td>0.0</td>\n",
       "      <td>353.0</td>\n",
       "      <td>3235.0</td>\n",
       "      <td>Celeon Hontichre</td>\n",
       "      <td>False</td>\n",
       "    </tr>\n",
       "    <tr>\n",
       "      <th>8692</th>\n",
       "      <td>9280_02</td>\n",
       "      <td>Europa</td>\n",
       "      <td>False</td>\n",
       "      <td>E/608/S</td>\n",
       "      <td>TRAPPIST-1e</td>\n",
       "      <td>44.0</td>\n",
       "      <td>False</td>\n",
       "      <td>126.0</td>\n",
       "      <td>4688.0</td>\n",
       "      <td>0.0</td>\n",
       "      <td>0.0</td>\n",
       "      <td>12.0</td>\n",
       "      <td>Propsh Hontichre</td>\n",
       "      <td>True</td>\n",
       "    </tr>\n",
       "  </tbody>\n",
       "</table>\n",
       "<p>8693 rows × 14 columns</p>\n",
       "</div>"
      ],
      "text/plain": [
       "     PassengerId HomePlanet CryoSleep     Cabin    Destination   Age    VIP  \\\n",
       "0        0001_01     Europa     False     B/0/P    TRAPPIST-1e  39.0  False   \n",
       "1        0002_01      Earth     False     F/0/S    TRAPPIST-1e  24.0  False   \n",
       "2        0003_01     Europa     False     A/0/S    TRAPPIST-1e  58.0   True   \n",
       "3        0003_02     Europa     False     A/0/S    TRAPPIST-1e  33.0  False   \n",
       "4        0004_01      Earth     False     F/1/S    TRAPPIST-1e  16.0  False   \n",
       "...          ...        ...       ...       ...            ...   ...    ...   \n",
       "8688     9276_01     Europa     False    A/98/P    55 Cancri e  41.0   True   \n",
       "8689     9278_01      Earth      True  G/1499/S  PSO J318.5-22  18.0  False   \n",
       "8690     9279_01      Earth     False  G/1500/S    TRAPPIST-1e  26.0  False   \n",
       "8691     9280_01     Europa     False   E/608/S    55 Cancri e  32.0  False   \n",
       "8692     9280_02     Europa     False   E/608/S    TRAPPIST-1e  44.0  False   \n",
       "\n",
       "      RoomService  FoodCourt  ShoppingMall     Spa  VRDeck               Name  \\\n",
       "0             0.0        0.0           0.0     0.0     0.0    Maham Ofracculy   \n",
       "1           109.0        9.0          25.0   549.0    44.0       Juanna Vines   \n",
       "2            43.0     3576.0           0.0  6715.0    49.0      Altark Susent   \n",
       "3             0.0     1283.0         371.0  3329.0   193.0       Solam Susent   \n",
       "4           303.0       70.0         151.0   565.0     2.0  Willy Santantines   \n",
       "...           ...        ...           ...     ...     ...                ...   \n",
       "8688          0.0     6819.0           0.0  1643.0    74.0  Gravior Noxnuther   \n",
       "8689          0.0        0.0           0.0     0.0     0.0    Kurta Mondalley   \n",
       "8690          0.0        0.0        1872.0     1.0     0.0       Fayey Connon   \n",
       "8691          0.0     1049.0           0.0   353.0  3235.0   Celeon Hontichre   \n",
       "8692        126.0     4688.0           0.0     0.0    12.0   Propsh Hontichre   \n",
       "\n",
       "      Transported  \n",
       "0           False  \n",
       "1            True  \n",
       "2           False  \n",
       "3           False  \n",
       "4            True  \n",
       "...           ...  \n",
       "8688        False  \n",
       "8689        False  \n",
       "8690         True  \n",
       "8691        False  \n",
       "8692         True  \n",
       "\n",
       "[8693 rows x 14 columns]"
      ]
     },
     "execution_count": 354,
     "metadata": {},
     "output_type": "execute_result"
    }
   ],
   "source": [
    "df_train=pd.read_csv('train.csv')\n",
    "df_test=pd.read_csv('test.csv')\n",
    "df_train"
   ]
  },
  {
   "cell_type": "code",
   "execution_count": 353,
   "id": "b9cf5201",
   "metadata": {},
   "outputs": [
    {
     "data": {
      "text/plain": [
       "PassengerId       0\n",
       "HomePlanet      201\n",
       "CryoSleep       217\n",
       "Cabin           199\n",
       "Destination     182\n",
       "Age             179\n",
       "VIP             203\n",
       "RoomService     181\n",
       "FoodCourt       183\n",
       "ShoppingMall    208\n",
       "Spa             183\n",
       "VRDeck          188\n",
       "Name            200\n",
       "Transported       0\n",
       "dtype: int64"
      ]
     },
     "execution_count": 353,
     "metadata": {},
     "output_type": "execute_result"
    }
   ],
   "source": [
    "df_train.isnull().sum()"
   ]
  },
  {
   "cell_type": "code",
   "execution_count": 364,
   "id": "9d4f8b76",
   "metadata": {},
   "outputs": [
    {
     "data": {
      "text/plain": [
       "PassengerId     8693\n",
       "HomePlanet         3\n",
       "CryoSleep          2\n",
       "Cabin           6560\n",
       "Destination        3\n",
       "Age               80\n",
       "VIP                2\n",
       "RoomService     1273\n",
       "FoodCourt       1507\n",
       "ShoppingMall    1115\n",
       "Spa             1327\n",
       "VRDeck          1306\n",
       "Name            8473\n",
       "Transported        2\n",
       "dtype: int64"
      ]
     },
     "execution_count": 364,
     "metadata": {},
     "output_type": "execute_result"
    }
   ],
   "source": [
    "df_train.nunique()"
   ]
  },
  {
   "cell_type": "code",
   "execution_count": 246,
   "id": "86d844ae",
   "metadata": {},
   "outputs": [
    {
     "data": {
      "text/plain": [
       "<AxesSubplot:>"
      ]
     },
     "execution_count": 246,
     "metadata": {},
     "output_type": "execute_result"
    },
    {
     "data": {
      "image/png": "[encoded data removed]",
      "text/plain": [
       "<Figure size 432x288 with 2 Axes>"
      ]
     },
     "metadata": {
      "needs_background": "light"
     },
     "output_type": "display_data"
    }
   ],
   "source": [
    "import seaborn as sns\n",
    "sns.heatmap(df_train.corr())"
   ]
  },
  {
   "cell_type": "code",
   "execution_count": null,
   "id": "e87985e0",
   "metadata": {},
   "outputs": [],
   "source": [
    "df_train=df_train.drop(['Name','Cabin'],axis=1)"
   ]
  },
  {
   "cell_type": "code",
   "execution_count": 247,
   "id": "3c7f4c18",
   "metadata": {},
   "outputs": [
    {
     "data": {
      "text/plain": [
       "<AxesSubplot:xlabel='Transported', ylabel='RoomService'>"
      ]
     },
     "execution_count": 247,
     "metadata": {},
     "output_type": "execute_result"
    },
    {
     "data": {
      "image/png": "[encoded data removed]",
      "text/plain": [
       "<Figure size 432x288 with 1 Axes>"
      ]
     },
     "metadata": {
      "needs_background": "light"
     },
     "output_type": "display_data"
    }
   ],
   "source": [
    "sns.boxplot(x='Transported',y='RoomService',data=df_train)"
   ]
  },
  {
   "cell_type": "code",
   "execution_count": 248,
   "id": "e8c47979",
   "metadata": {},
   "outputs": [
    {
     "data": {
      "text/plain": [
       "<AxesSubplot:xlabel='HomePlanet', ylabel='RoomService'>"
      ]
     },
     "execution_count": 248,
     "metadata": {},
     "output_type": "execute_result"
    },
    {
     "data": {
      "image/png": "[encoded data removed]",
      "text/plain": [
       "<Figure size 432x288 with 1 Axes>"
      ]
     },
     "metadata": {
      "needs_background": "light"
     },
     "output_type": "display_data"
    }
   ],
   "source": [
    "sns.boxplot(x='HomePlanet',y='RoomService',data=df_train)"
   ]
  },
  {
   "cell_type": "code",
   "execution_count": 249,
   "id": "8798e7b1",
   "metadata": {},
   "outputs": [
    {
     "data": {
      "text/plain": [
       "<AxesSubplot:xlabel='Transported', ylabel='ShoppingMall'>"
      ]
     },
     "execution_count": 249,
     "metadata": {},
     "output_type": "execute_result"
    },
    {
     "data": {
      "image/png": "[encoded data removed]",
      "text/plain": [
       "<Figure size 432x288 with 1 Axes>"
      ]
     },
     "metadata": {
      "needs_background": "light"
     },
     "output_type": "display_data"
    }
   ],
   "source": [
    "sns.boxplot(x='Transported',y='ShoppingMall',data=df_train)"
   ]
  },
  {
   "cell_type": "code",
   "execution_count": 250,
   "id": "07654367",
   "metadata": {},
   "outputs": [
    {
     "data": {
      "text/plain": [
       "<AxesSubplot:xlabel='Transported', ylabel='Spa'>"
      ]
     },
     "execution_count": 250,
     "metadata": {},
     "output_type": "execute_result"
    },
    {
     "data": {
      "image/png": "[encoded data removed]",
      "text/plain": [
       "<Figure size 432x288 with 1 Axes>"
      ]
     },
     "metadata": {
      "needs_background": "light"
     },
     "output_type": "display_data"
    }
   ],
   "source": [
    "sns.boxplot(x='Transported',y='Spa',data=df_train)"
   ]
  },
  {
   "cell_type": "code",
   "execution_count": 251,
   "id": "9cfe0d64",
   "metadata": {},
   "outputs": [
    {
     "data": {
      "text/plain": [
       "<AxesSubplot:xlabel='Transported', ylabel='VRDeck'>"
      ]
     },
     "execution_count": 251,
     "metadata": {},
     "output_type": "execute_result"
    },
    {
     "data": {
      "image/png": "[encoded data removed]",
      "text/plain": [
       "<Figure size 432x288 with 1 Axes>"
      ]
     },
     "metadata": {
      "needs_background": "light"
     },
     "output_type": "display_data"
    }
   ],
   "source": [
    "sns.boxplot(x='Transported',y='VRDeck',data=df_train)"
   ]
  },
  {
   "cell_type": "code",
   "execution_count": 252,
   "id": "da7fadb0",
   "metadata": {},
   "outputs": [
    {
     "data": {
      "text/plain": [
       "<AxesSubplot:xlabel='Transported', ylabel='FoodCourt'>"
      ]
     },
     "execution_count": 252,
     "metadata": {},
     "output_type": "execute_result"
    },
    {
     "data": {
      "image/png": "[encoded data removed]",
      "text/plain": [
       "<Figure size 432x288 with 1 Axes>"
      ]
     },
     "metadata": {
      "needs_background": "light"
     },
     "output_type": "display_data"
    }
   ],
   "source": [
    "sns.boxplot(x='Transported',y='FoodCourt',data=df_train)"
   ]
  },
  {
   "cell_type": "code",
   "execution_count": 253,
   "id": "dd8231c4",
   "metadata": {},
   "outputs": [
    {
     "data": {
      "text/plain": [
       "<AxesSubplot:xlabel='Destination', ylabel='RoomService'>"
      ]
     },
     "execution_count": 253,
     "metadata": {},
     "output_type": "execute_result"
    },
    {
     "data": {
      "image/png": "[encoded data removed]",
      "text/plain": [
       "<Figure size 432x288 with 1 Axes>"
      ]
     },
     "metadata": {
      "needs_background": "light"
     },
     "output_type": "display_data"
    }
   ],
   "source": [
    "sns.boxplot(x='Destination',y='RoomService',data=df_train)"
   ]
  },
  {
   "cell_type": "code",
   "execution_count": 254,
   "id": "c705f3f9",
   "metadata": {},
   "outputs": [
    {
     "data": {
      "text/plain": [
       "<AxesSubplot:xlabel='Destination', ylabel='ShoppingMall'>"
      ]
     },
     "execution_count": 254,
     "metadata": {},
     "output_type": "execute_result"
    },
    {
     "data": {
      "image/png": "[encoded data removed]",
      "text/plain": [
       "<Figure size 432x288 with 1 Axes>"
      ]
     },
     "metadata": {
      "needs_background": "light"
     },
     "output_type": "display_data"
    }
   ],
   "source": [
    "sns.boxplot(x='Destination',y='ShoppingMall',data=df_train)"
   ]
  },
  {
   "cell_type": "code",
   "execution_count": 255,
   "id": "87fdf566",
   "metadata": {},
   "outputs": [
    {
     "data": {
      "text/plain": [
       "<AxesSubplot:xlabel='HomePlanet', ylabel='Spa'>"
      ]
     },
     "execution_count": 255,
     "metadata": {},
     "output_type": "execute_result"
    },
    {
     "data": {
      "image/png": "[encoded data removed]",
      "text/plain": [
       "<Figure size 432x288 with 1 Axes>"
      ]
     },
     "metadata": {
      "needs_background": "light"
     },
     "output_type": "display_data"
    }
   ],
   "source": [
    "sns.boxplot(x='HomePlanet',y='Spa',data=df_train)"
   ]
  },
  {
   "cell_type": "code",
   "execution_count": 256,
   "id": "98a81d50",
   "metadata": {},
   "outputs": [
    {
     "data": {
      "text/plain": [
       "<AxesSubplot:xlabel='HomePlanet', ylabel='VRDeck'>"
      ]
     },
     "execution_count": 256,
     "metadata": {},
     "output_type": "execute_result"
    },
    {
     "data": {
      "image/png": "[encoded data removed]",
      "text/plain": [
       "<Figure size 432x288 with 1 Axes>"
      ]
     },
     "metadata": {
      "needs_background": "light"
     },
     "output_type": "display_data"
    }
   ],
   "source": [
    "sns.boxplot(x='HomePlanet',y='VRDeck',data=df_train)"
   ]
  },
  {
   "cell_type": "code",
   "execution_count": 257,
   "id": "c5619b99",
   "metadata": {},
   "outputs": [
    {
     "data": {
      "text/plain": [
       "<AxesSubplot:xlabel='Destination', ylabel='FoodCourt'>"
      ]
     },
     "execution_count": 257,
     "metadata": {},
     "output_type": "execute_result"
    },
    {
     "data": {
      "image/png": "[encoded data removed]",
      "text/plain": [
       "<Figure size 432x288 with 1 Axes>"
      ]
     },
     "metadata": {
      "needs_background": "light"
     },
     "output_type": "display_data"
    }
   ],
   "source": [
    "sns.boxplot(x='Destination',y='FoodCourt',data=df_train)"
   ]
  },
  {
   "cell_type": "code",
   "execution_count": 260,
   "id": "056845fd",
   "metadata": {},
   "outputs": [
    {
     "data": {
      "text/plain": [
       "<AxesSubplot:>"
      ]
     },
     "execution_count": 260,
     "metadata": {},
     "output_type": "execute_result"
    },
    {
     "data": {
      "image/png": "[encoded data removed]",
      "text/plain": [
       "<Figure size 432x288 with 2 Axes>"
      ]
     },
     "metadata": {
      "needs_background": "light"
     },
     "output_type": "display_data"
    }
   ],
   "source": [
    "sns.heatmap(df_train.corr())"
   ]
  },
  {
   "cell_type": "code",
   "execution_count": 261,
   "id": "7fd5e042",
   "metadata": {},
   "outputs": [
    {
     "data": {
      "text/plain": [
       "<AxesSubplot:xlabel='CryoSleep', ylabel='Age'>"
      ]
     },
     "execution_count": 261,
     "metadata": {},
     "output_type": "execute_result"
    },
    {
     "data": {
      "image/png": "[encoded data removed]",
      "text/plain": [
       "<Figure size 432x288 with 1 Axes>"
      ]
     },
     "metadata": {
      "needs_background": "light"
     },
     "output_type": "display_data"
    }
   ],
   "source": [
    "sns.boxplot(x='CryoSleep',y='Age',data=df_train)"
   ]
  },
  {
   "cell_type": "code",
   "execution_count": 262,
   "id": "40cf51df",
   "metadata": {},
   "outputs": [
    {
     "data": {
      "text/plain": [
       "<AxesSubplot:xlabel='HomePlanet', ylabel='Age'>"
      ]
     },
     "execution_count": 262,
     "metadata": {},
     "output_type": "execute_result"
    },
    {
     "data": {
      "image/png": "[encoded data removed]",
      "text/plain": [
       "<Figure size 432x288 with 1 Axes>"
      ]
     },
     "metadata": {
      "needs_background": "light"
     },
     "output_type": "display_data"
    }
   ],
   "source": [
    "sns.boxplot(x='HomePlanet',y='Age',data=df_train)"
   ]
  },
  {
   "cell_type": "code",
   "execution_count": 263,
   "id": "c41d57ba",
   "metadata": {},
   "outputs": [
    {
     "data": {
      "text/plain": [
       "<AxesSubplot:xlabel='Destination', ylabel='Age'>"
      ]
     },
     "execution_count": 263,
     "metadata": {},
     "output_type": "execute_result"
    },
    {
     "data": {
      "image/png": "[encoded data removed]",
      "text/plain": [
       "<Figure size 432x288 with 1 Axes>"
      ]
     },
     "metadata": {
      "needs_background": "light"
     },
     "output_type": "display_data"
    }
   ],
   "source": [
    "sns.boxplot(x='Destination',y='Age',data=df_train)"
   ]
  },
  {
   "cell_type": "code",
   "execution_count": 264,
   "id": "bd308457",
   "metadata": {},
   "outputs": [
    {
     "data": {
      "text/plain": [
       "<AxesSubplot:xlabel='VIP', ylabel='Age'>"
      ]
     },
     "execution_count": 264,
     "metadata": {},
     "output_type": "execute_result"
    },
    {
     "data": {
      "image/png": "[encoded data removed]",
      "text/plain": [
       "<Figure size 432x288 with 1 Axes>"
      ]
     },
     "metadata": {
      "needs_background": "light"
     },
     "output_type": "display_data"
    }
   ],
   "source": [
    "sns.boxplot(x='VIP',y='Age',data=df_train)"
   ]
  },
  {
   "cell_type": "code",
   "execution_count": 265,
   "id": "6183e840",
   "metadata": {},
   "outputs": [],
   "source": [
    "def agemap(x):\n",
    "    if np.isnan(x[0]):\n",
    "        if x[1]==\"Europa\":\n",
    "            return 34\n",
    "        elif x[1]==\"Earth\":\n",
    "            return 22\n",
    "        else:\n",
    "            return 28\n",
    "    else:\n",
    "        return x[0]"
   ]
  },
  {
   "cell_type": "code",
   "execution_count": 266,
   "id": "5e4db101",
   "metadata": {},
   "outputs": [],
   "source": [
    "def zeromap(x):\n",
    "    if np.isnan(x[0]):\n",
    "                return 0\n",
    "    else:\n",
    "        return x[0]"
   ]
  },
  {
   "cell_type": "code",
   "execution_count": 267,
   "id": "95bd71b2",
   "metadata": {},
   "outputs": [],
   "source": [
    "# df_train['Age']=df_train[['Age','HomePlanet']].apply(agemap,axis=1)"
   ]
  },
  {
   "cell_type": "code",
   "execution_count": 268,
   "id": "75d6849e",
   "metadata": {},
   "outputs": [
    {
     "data": {
      "text/plain": [
       "PassengerId       0\n",
       "HomePlanet      201\n",
       "CryoSleep       217\n",
       "Destination     182\n",
       "Age             179\n",
       "VIP             203\n",
       "RoomService     181\n",
       "FoodCourt       183\n",
       "ShoppingMall    208\n",
       "Spa             183\n",
       "VRDeck          188\n",
       "Transported       0\n",
       "dtype: int64"
      ]
     },
     "execution_count": 268,
     "metadata": {},
     "output_type": "execute_result"
    }
   ],
   "source": [
    "df_train.isnull().sum()"
   ]
  },
  {
   "cell_type": "code",
   "execution_count": 269,
   "id": "cb5d7f5f",
   "metadata": {},
   "outputs": [
    {
     "data": {
      "text/plain": [
       "<AxesSubplot:xlabel='HomePlanet', ylabel='Age'>"
      ]
     },
     "execution_count": 269,
     "metadata": {},
     "output_type": "execute_result"
    },
    {
     "data": {
      "image/png": "[encoded data removed]",
      "text/plain": [
       "<Figure size 432x288 with 1 Axes>"
      ]
     },
     "metadata": {
      "needs_background": "light"
     },
     "output_type": "display_data"
    }
   ],
   "source": [
    "sns.boxplot(x='HomePlanet',y='Age',data=df_train)"
   ]
  },
  {
   "cell_type": "markdown",
   "id": "c6e16c2e",
   "metadata": {},
   "source": [
    "def hpmap(x):\n",
    "    if x[0].np.isnan():\n",
    "        if x[1]>33:\n",
    "            return 'Europa'\n",
    "        elif x[1]>27:\n",
    "            return 'Mars'\n",
    "        else:\n",
    "            return \"Earth\"\n",
    "    else:\n",
    "        return x[0]"
   ]
  },
  {
   "cell_type": "markdown",
   "id": "6b2b7c5b",
   "metadata": {},
   "source": [
    "df_train['HomePlanet']=df_train[['HomePlanet','Age']].apply(hpmap,axis=1)"
   ]
  },
  {
   "cell_type": "markdown",
   "id": "ee88fdff",
   "metadata": {},
   "source": [
    "def hpmap(x):\n",
    "    if type(x[0])!=str:\n",
    "        if x[1]>33:\n",
    "            return 'Europa'\n",
    "        elif x[1]>27:\n",
    "            return 'Mars'\n",
    "        else:\n",
    "            return \"Earth\"\n",
    "    else:\n",
    "        return x[0]"
   ]
  },
  {
   "cell_type": "markdown",
   "id": "2fa4ef1f",
   "metadata": {},
   "source": [
    "df_train['HomePlanet']=df_train[['HomePlanet','Age']].apply(hpmap,axis=1)"
   ]
  },
  {
   "cell_type": "code",
   "execution_count": 270,
   "id": "dfb0dbe2",
   "metadata": {},
   "outputs": [
    {
     "data": {
      "text/html": [
       "<div>\n",
       "<style scoped>\n",
       "    .dataframe tbody tr th:only-of-type {\n",
       "        vertical-align: middle;\n",
       "    }\n",
       "\n",
       "    .dataframe tbody tr th {\n",
       "        vertical-align: top;\n",
       "    }\n",
       "\n",
       "    .dataframe thead th {\n",
       "        text-align: right;\n",
       "    }\n",
       "</style>\n",
       "<table border=\"1\" class=\"dataframe\">\n",
       "  <thead>\n",
       "    <tr style=\"text-align: right;\">\n",
       "      <th></th>\n",
       "      <th>PassengerId</th>\n",
       "      <th>HomePlanet</th>\n",
       "      <th>CryoSleep</th>\n",
       "      <th>Destination</th>\n",
       "      <th>Age</th>\n",
       "      <th>VIP</th>\n",
       "      <th>RoomService</th>\n",
       "      <th>FoodCourt</th>\n",
       "      <th>ShoppingMall</th>\n",
       "      <th>Spa</th>\n",
       "      <th>VRDeck</th>\n",
       "      <th>Transported</th>\n",
       "    </tr>\n",
       "  </thead>\n",
       "  <tbody>\n",
       "    <tr>\n",
       "      <th>59</th>\n",
       "      <td>0064_02</td>\n",
       "      <td>NaN</td>\n",
       "      <td>True</td>\n",
       "      <td>TRAPPIST-1e</td>\n",
       "      <td>33.0</td>\n",
       "      <td>False</td>\n",
       "      <td>0.0</td>\n",
       "      <td>0.0</td>\n",
       "      <td>NaN</td>\n",
       "      <td>0.0</td>\n",
       "      <td>0.0</td>\n",
       "      <td>True</td>\n",
       "    </tr>\n",
       "    <tr>\n",
       "      <th>113</th>\n",
       "      <td>0119_01</td>\n",
       "      <td>NaN</td>\n",
       "      <td>False</td>\n",
       "      <td>TRAPPIST-1e</td>\n",
       "      <td>39.0</td>\n",
       "      <td>False</td>\n",
       "      <td>0.0</td>\n",
       "      <td>2344.0</td>\n",
       "      <td>0.0</td>\n",
       "      <td>65.0</td>\n",
       "      <td>6898.0</td>\n",
       "      <td>False</td>\n",
       "    </tr>\n",
       "    <tr>\n",
       "      <th>186</th>\n",
       "      <td>0210_01</td>\n",
       "      <td>NaN</td>\n",
       "      <td>True</td>\n",
       "      <td>55 Cancri e</td>\n",
       "      <td>24.0</td>\n",
       "      <td>False</td>\n",
       "      <td>0.0</td>\n",
       "      <td>0.0</td>\n",
       "      <td>NaN</td>\n",
       "      <td>0.0</td>\n",
       "      <td>0.0</td>\n",
       "      <td>True</td>\n",
       "    </tr>\n",
       "    <tr>\n",
       "      <th>225</th>\n",
       "      <td>0242_01</td>\n",
       "      <td>NaN</td>\n",
       "      <td>False</td>\n",
       "      <td>TRAPPIST-1e</td>\n",
       "      <td>18.0</td>\n",
       "      <td>False</td>\n",
       "      <td>313.0</td>\n",
       "      <td>1.0</td>\n",
       "      <td>691.0</td>\n",
       "      <td>283.0</td>\n",
       "      <td>0.0</td>\n",
       "      <td>False</td>\n",
       "    </tr>\n",
       "    <tr>\n",
       "      <th>234</th>\n",
       "      <td>0251_01</td>\n",
       "      <td>NaN</td>\n",
       "      <td>True</td>\n",
       "      <td>55 Cancri e</td>\n",
       "      <td>54.0</td>\n",
       "      <td>False</td>\n",
       "      <td>0.0</td>\n",
       "      <td>0.0</td>\n",
       "      <td>0.0</td>\n",
       "      <td>0.0</td>\n",
       "      <td>0.0</td>\n",
       "      <td>True</td>\n",
       "    </tr>\n",
       "    <tr>\n",
       "      <th>...</th>\n",
       "      <td>...</td>\n",
       "      <td>...</td>\n",
       "      <td>...</td>\n",
       "      <td>...</td>\n",
       "      <td>...</td>\n",
       "      <td>...</td>\n",
       "      <td>...</td>\n",
       "      <td>...</td>\n",
       "      <td>...</td>\n",
       "      <td>...</td>\n",
       "      <td>...</td>\n",
       "      <td>...</td>\n",
       "    </tr>\n",
       "    <tr>\n",
       "      <th>8515</th>\n",
       "      <td>9084_01</td>\n",
       "      <td>NaN</td>\n",
       "      <td>False</td>\n",
       "      <td>TRAPPIST-1e</td>\n",
       "      <td>25.0</td>\n",
       "      <td>False</td>\n",
       "      <td>1258.0</td>\n",
       "      <td>0.0</td>\n",
       "      <td>22.0</td>\n",
       "      <td>19.0</td>\n",
       "      <td>0.0</td>\n",
       "      <td>False</td>\n",
       "    </tr>\n",
       "    <tr>\n",
       "      <th>8613</th>\n",
       "      <td>9194_01</td>\n",
       "      <td>NaN</td>\n",
       "      <td>False</td>\n",
       "      <td>55 Cancri e</td>\n",
       "      <td>53.0</td>\n",
       "      <td>False</td>\n",
       "      <td>0.0</td>\n",
       "      <td>4017.0</td>\n",
       "      <td>0.0</td>\n",
       "      <td>13.0</td>\n",
       "      <td>3147.0</td>\n",
       "      <td>False</td>\n",
       "    </tr>\n",
       "    <tr>\n",
       "      <th>8666</th>\n",
       "      <td>9248_01</td>\n",
       "      <td>NaN</td>\n",
       "      <td>False</td>\n",
       "      <td>55 Cancri e</td>\n",
       "      <td>38.0</td>\n",
       "      <td>NaN</td>\n",
       "      <td>28.0</td>\n",
       "      <td>1208.0</td>\n",
       "      <td>973.0</td>\n",
       "      <td>207.0</td>\n",
       "      <td>0.0</td>\n",
       "      <td>True</td>\n",
       "    </tr>\n",
       "    <tr>\n",
       "      <th>8674</th>\n",
       "      <td>9257_01</td>\n",
       "      <td>NaN</td>\n",
       "      <td>False</td>\n",
       "      <td>TRAPPIST-1e</td>\n",
       "      <td>13.0</td>\n",
       "      <td>False</td>\n",
       "      <td>39.0</td>\n",
       "      <td>0.0</td>\n",
       "      <td>1085.0</td>\n",
       "      <td>24.0</td>\n",
       "      <td>0.0</td>\n",
       "      <td>False</td>\n",
       "    </tr>\n",
       "    <tr>\n",
       "      <th>8684</th>\n",
       "      <td>9274_01</td>\n",
       "      <td>NaN</td>\n",
       "      <td>True</td>\n",
       "      <td>TRAPPIST-1e</td>\n",
       "      <td>23.0</td>\n",
       "      <td>False</td>\n",
       "      <td>0.0</td>\n",
       "      <td>0.0</td>\n",
       "      <td>0.0</td>\n",
       "      <td>0.0</td>\n",
       "      <td>0.0</td>\n",
       "      <td>True</td>\n",
       "    </tr>\n",
       "  </tbody>\n",
       "</table>\n",
       "<p>201 rows × 12 columns</p>\n",
       "</div>"
      ],
      "text/plain": [
       "     PassengerId HomePlanet CryoSleep  Destination   Age    VIP  RoomService  \\\n",
       "59       0064_02        NaN      True  TRAPPIST-1e  33.0  False          0.0   \n",
       "113      0119_01        NaN     False  TRAPPIST-1e  39.0  False          0.0   \n",
       "186      0210_01        NaN      True  55 Cancri e  24.0  False          0.0   \n",
       "225      0242_01        NaN     False  TRAPPIST-1e  18.0  False        313.0   \n",
       "234      0251_01        NaN      True  55 Cancri e  54.0  False          0.0   \n",
       "...          ...        ...       ...          ...   ...    ...          ...   \n",
       "8515     9084_01        NaN     False  TRAPPIST-1e  25.0  False       1258.0   \n",
       "8613     9194_01        NaN     False  55 Cancri e  53.0  False          0.0   \n",
       "8666     9248_01        NaN     False  55 Cancri e  38.0    NaN         28.0   \n",
       "8674     9257_01        NaN     False  TRAPPIST-1e  13.0  False         39.0   \n",
       "8684     9274_01        NaN      True  TRAPPIST-1e  23.0  False          0.0   \n",
       "\n",
       "      FoodCourt  ShoppingMall    Spa  VRDeck  Transported  \n",
       "59          0.0           NaN    0.0     0.0         True  \n",
       "113      2344.0           0.0   65.0  6898.0        False  \n",
       "186         0.0           NaN    0.0     0.0         True  \n",
       "225         1.0         691.0  283.0     0.0        False  \n",
       "234         0.0           0.0    0.0     0.0         True  \n",
       "...         ...           ...    ...     ...          ...  \n",
       "8515        0.0          22.0   19.0     0.0        False  \n",
       "8613     4017.0           0.0   13.0  3147.0        False  \n",
       "8666     1208.0         973.0  207.0     0.0         True  \n",
       "8674        0.0        1085.0   24.0     0.0        False  \n",
       "8684        0.0           0.0    0.0     0.0         True  \n",
       "\n",
       "[201 rows x 12 columns]"
      ]
     },
     "execution_count": 270,
     "metadata": {},
     "output_type": "execute_result"
    }
   ],
   "source": [
    "df_train[(df_train['HomePlanet']!='Earth')&(df_train['HomePlanet']!='Europa')&(df_train['HomePlanet']!='Mars')]"
   ]
  },
  {
   "cell_type": "code",
   "execution_count": 271,
   "id": "4d6e1028",
   "metadata": {},
   "outputs": [
    {
     "data": {
      "text/plain": [
       "Earth     4602\n",
       "Europa    2131\n",
       "Mars      1759\n",
       "Name: HomePlanet, dtype: int64"
      ]
     },
     "execution_count": 271,
     "metadata": {},
     "output_type": "execute_result"
    }
   ],
   "source": [
    "df_train['HomePlanet'].value_counts()"
   ]
  },
  {
   "cell_type": "code",
   "execution_count": 272,
   "id": "e2e98505",
   "metadata": {},
   "outputs": [
    {
     "data": {
      "text/plain": [
       "PassengerId       0\n",
       "HomePlanet      201\n",
       "CryoSleep       217\n",
       "Destination     182\n",
       "Age             179\n",
       "VIP             203\n",
       "RoomService     181\n",
       "FoodCourt       183\n",
       "ShoppingMall    208\n",
       "Spa             183\n",
       "VRDeck          188\n",
       "Transported       0\n",
       "dtype: int64"
      ]
     },
     "execution_count": 272,
     "metadata": {},
     "output_type": "execute_result"
    }
   ],
   "source": [
    "df_train.isnull().sum()"
   ]
  },
  {
   "cell_type": "code",
   "execution_count": 273,
   "id": "0727efa7",
   "metadata": {},
   "outputs": [
    {
     "data": {
      "text/html": [
       "<div>\n",
       "<style scoped>\n",
       "    .dataframe tbody tr th:only-of-type {\n",
       "        vertical-align: middle;\n",
       "    }\n",
       "\n",
       "    .dataframe tbody tr th {\n",
       "        vertical-align: top;\n",
       "    }\n",
       "\n",
       "    .dataframe thead th {\n",
       "        text-align: right;\n",
       "    }\n",
       "</style>\n",
       "<table border=\"1\" class=\"dataframe\">\n",
       "  <thead>\n",
       "    <tr style=\"text-align: right;\">\n",
       "      <th></th>\n",
       "      <th>PassengerId</th>\n",
       "      <th>HomePlanet</th>\n",
       "      <th>CryoSleep</th>\n",
       "      <th>Destination</th>\n",
       "      <th>Age</th>\n",
       "      <th>VIP</th>\n",
       "      <th>RoomService</th>\n",
       "      <th>FoodCourt</th>\n",
       "      <th>ShoppingMall</th>\n",
       "      <th>Spa</th>\n",
       "      <th>VRDeck</th>\n",
       "      <th>Transported</th>\n",
       "    </tr>\n",
       "  </thead>\n",
       "  <tbody>\n",
       "    <tr>\n",
       "      <th>0</th>\n",
       "      <td>0001_01</td>\n",
       "      <td>Europa</td>\n",
       "      <td>False</td>\n",
       "      <td>TRAPPIST-1e</td>\n",
       "      <td>39.0</td>\n",
       "      <td>False</td>\n",
       "      <td>0.0</td>\n",
       "      <td>0.0</td>\n",
       "      <td>0.0</td>\n",
       "      <td>0.0</td>\n",
       "      <td>0.0</td>\n",
       "      <td>False</td>\n",
       "    </tr>\n",
       "    <tr>\n",
       "      <th>1</th>\n",
       "      <td>0002_01</td>\n",
       "      <td>Earth</td>\n",
       "      <td>False</td>\n",
       "      <td>TRAPPIST-1e</td>\n",
       "      <td>24.0</td>\n",
       "      <td>False</td>\n",
       "      <td>109.0</td>\n",
       "      <td>9.0</td>\n",
       "      <td>25.0</td>\n",
       "      <td>549.0</td>\n",
       "      <td>44.0</td>\n",
       "      <td>True</td>\n",
       "    </tr>\n",
       "    <tr>\n",
       "      <th>2</th>\n",
       "      <td>0003_01</td>\n",
       "      <td>Europa</td>\n",
       "      <td>False</td>\n",
       "      <td>TRAPPIST-1e</td>\n",
       "      <td>58.0</td>\n",
       "      <td>True</td>\n",
       "      <td>43.0</td>\n",
       "      <td>3576.0</td>\n",
       "      <td>0.0</td>\n",
       "      <td>6715.0</td>\n",
       "      <td>49.0</td>\n",
       "      <td>False</td>\n",
       "    </tr>\n",
       "    <tr>\n",
       "      <th>3</th>\n",
       "      <td>0003_02</td>\n",
       "      <td>Europa</td>\n",
       "      <td>False</td>\n",
       "      <td>TRAPPIST-1e</td>\n",
       "      <td>33.0</td>\n",
       "      <td>False</td>\n",
       "      <td>0.0</td>\n",
       "      <td>1283.0</td>\n",
       "      <td>371.0</td>\n",
       "      <td>3329.0</td>\n",
       "      <td>193.0</td>\n",
       "      <td>False</td>\n",
       "    </tr>\n",
       "    <tr>\n",
       "      <th>4</th>\n",
       "      <td>0004_01</td>\n",
       "      <td>Earth</td>\n",
       "      <td>False</td>\n",
       "      <td>TRAPPIST-1e</td>\n",
       "      <td>16.0</td>\n",
       "      <td>False</td>\n",
       "      <td>303.0</td>\n",
       "      <td>70.0</td>\n",
       "      <td>151.0</td>\n",
       "      <td>565.0</td>\n",
       "      <td>2.0</td>\n",
       "      <td>True</td>\n",
       "    </tr>\n",
       "    <tr>\n",
       "      <th>...</th>\n",
       "      <td>...</td>\n",
       "      <td>...</td>\n",
       "      <td>...</td>\n",
       "      <td>...</td>\n",
       "      <td>...</td>\n",
       "      <td>...</td>\n",
       "      <td>...</td>\n",
       "      <td>...</td>\n",
       "      <td>...</td>\n",
       "      <td>...</td>\n",
       "      <td>...</td>\n",
       "      <td>...</td>\n",
       "    </tr>\n",
       "    <tr>\n",
       "      <th>8688</th>\n",
       "      <td>9276_01</td>\n",
       "      <td>Europa</td>\n",
       "      <td>False</td>\n",
       "      <td>55 Cancri e</td>\n",
       "      <td>41.0</td>\n",
       "      <td>True</td>\n",
       "      <td>0.0</td>\n",
       "      <td>6819.0</td>\n",
       "      <td>0.0</td>\n",
       "      <td>1643.0</td>\n",
       "      <td>74.0</td>\n",
       "      <td>False</td>\n",
       "    </tr>\n",
       "    <tr>\n",
       "      <th>8689</th>\n",
       "      <td>9278_01</td>\n",
       "      <td>Earth</td>\n",
       "      <td>True</td>\n",
       "      <td>PSO J318.5-22</td>\n",
       "      <td>18.0</td>\n",
       "      <td>False</td>\n",
       "      <td>0.0</td>\n",
       "      <td>0.0</td>\n",
       "      <td>0.0</td>\n",
       "      <td>0.0</td>\n",
       "      <td>0.0</td>\n",
       "      <td>False</td>\n",
       "    </tr>\n",
       "    <tr>\n",
       "      <th>8690</th>\n",
       "      <td>9279_01</td>\n",
       "      <td>Earth</td>\n",
       "      <td>False</td>\n",
       "      <td>TRAPPIST-1e</td>\n",
       "      <td>26.0</td>\n",
       "      <td>False</td>\n",
       "      <td>0.0</td>\n",
       "      <td>0.0</td>\n",
       "      <td>1872.0</td>\n",
       "      <td>1.0</td>\n",
       "      <td>0.0</td>\n",
       "      <td>True</td>\n",
       "    </tr>\n",
       "    <tr>\n",
       "      <th>8691</th>\n",
       "      <td>9280_01</td>\n",
       "      <td>Europa</td>\n",
       "      <td>False</td>\n",
       "      <td>55 Cancri e</td>\n",
       "      <td>32.0</td>\n",
       "      <td>False</td>\n",
       "      <td>0.0</td>\n",
       "      <td>1049.0</td>\n",
       "      <td>0.0</td>\n",
       "      <td>353.0</td>\n",
       "      <td>3235.0</td>\n",
       "      <td>False</td>\n",
       "    </tr>\n",
       "    <tr>\n",
       "      <th>8692</th>\n",
       "      <td>9280_02</td>\n",
       "      <td>Europa</td>\n",
       "      <td>False</td>\n",
       "      <td>TRAPPIST-1e</td>\n",
       "      <td>44.0</td>\n",
       "      <td>False</td>\n",
       "      <td>126.0</td>\n",
       "      <td>4688.0</td>\n",
       "      <td>0.0</td>\n",
       "      <td>0.0</td>\n",
       "      <td>12.0</td>\n",
       "      <td>True</td>\n",
       "    </tr>\n",
       "  </tbody>\n",
       "</table>\n",
       "<p>8693 rows × 12 columns</p>\n",
       "</div>"
      ],
      "text/plain": [
       "     PassengerId HomePlanet CryoSleep    Destination   Age    VIP  \\\n",
       "0        0001_01     Europa     False    TRAPPIST-1e  39.0  False   \n",
       "1        0002_01      Earth     False    TRAPPIST-1e  24.0  False   \n",
       "2        0003_01     Europa     False    TRAPPIST-1e  58.0   True   \n",
       "3        0003_02     Europa     False    TRAPPIST-1e  33.0  False   \n",
       "4        0004_01      Earth     False    TRAPPIST-1e  16.0  False   \n",
       "...          ...        ...       ...            ...   ...    ...   \n",
       "8688     9276_01     Europa     False    55 Cancri e  41.0   True   \n",
       "8689     9278_01      Earth      True  PSO J318.5-22  18.0  False   \n",
       "8690     9279_01      Earth     False    TRAPPIST-1e  26.0  False   \n",
       "8691     9280_01     Europa     False    55 Cancri e  32.0  False   \n",
       "8692     9280_02     Europa     False    TRAPPIST-1e  44.0  False   \n",
       "\n",
       "      RoomService  FoodCourt  ShoppingMall     Spa  VRDeck  Transported  \n",
       "0             0.0        0.0           0.0     0.0     0.0        False  \n",
       "1           109.0        9.0          25.0   549.0    44.0         True  \n",
       "2            43.0     3576.0           0.0  6715.0    49.0        False  \n",
       "3             0.0     1283.0         371.0  3329.0   193.0        False  \n",
       "4           303.0       70.0         151.0   565.0     2.0         True  \n",
       "...           ...        ...           ...     ...     ...          ...  \n",
       "8688          0.0     6819.0           0.0  1643.0    74.0        False  \n",
       "8689          0.0        0.0           0.0     0.0     0.0        False  \n",
       "8690          0.0        0.0        1872.0     1.0     0.0         True  \n",
       "8691          0.0     1049.0           0.0   353.0  3235.0        False  \n",
       "8692        126.0     4688.0           0.0     0.0    12.0         True  \n",
       "\n",
       "[8693 rows x 12 columns]"
      ]
     },
     "execution_count": 273,
     "metadata": {},
     "output_type": "execute_result"
    }
   ],
   "source": [
    "df_train"
   ]
  },
  {
   "cell_type": "code",
   "execution_count": 274,
   "id": "545e2412",
   "metadata": {},
   "outputs": [
    {
     "data": {
      "text/plain": [
       "<AxesSubplot:>"
      ]
     },
     "execution_count": 274,
     "metadata": {},
     "output_type": "execute_result"
    },
    {
     "data": {
      "image/png": "[encoded data removed]",
      "text/plain": [
       "<Figure size 432x288 with 2 Axes>"
      ]
     },
     "metadata": {
      "needs_background": "light"
     },
     "output_type": "display_data"
    }
   ],
   "source": [
    "sns.heatmap(df_train.corr())"
   ]
  },
  {
   "cell_type": "code",
   "execution_count": 275,
   "id": "2d3ea1c1",
   "metadata": {},
   "outputs": [],
   "source": [
    "df_train=pd.get_dummies(df_train,columns=['CryoSleep','VIP','Transported'],drop_first=True)"
   ]
  },
  {
   "cell_type": "code",
   "execution_count": 276,
   "id": "656d7fe3",
   "metadata": {},
   "outputs": [
    {
     "data": {
      "text/plain": [
       "<AxesSubplot:>"
      ]
     },
     "execution_count": 276,
     "metadata": {},
     "output_type": "execute_result"
    },
    {
     "data": {
      "image/png": "[encoded data removed]",
      "text/plain": [
       "<Figure size 432x288 with 2 Axes>"
      ]
     },
     "metadata": {
      "needs_background": "light"
     },
     "output_type": "display_data"
    }
   ],
   "source": [
    "sns.heatmap(df_train.corr())"
   ]
  },
  {
   "cell_type": "code",
   "execution_count": 277,
   "id": "2e6973de",
   "metadata": {},
   "outputs": [],
   "source": [
    "# df_train=df_train.drop(['VIP_True'],axis=1)"
   ]
  },
  {
   "cell_type": "code",
   "execution_count": 278,
   "id": "62f8fc39",
   "metadata": {},
   "outputs": [
    {
     "data": {
      "text/plain": [
       "<AxesSubplot:xlabel='CryoSleep_True', ylabel='Age'>"
      ]
     },
     "execution_count": 278,
     "metadata": {},
     "output_type": "execute_result"
    },
    {
     "data": {
      "image/png": "[encoded data removed]",
      "text/plain": [
       "<Figure size 432x288 with 1 Axes>"
      ]
     },
     "metadata": {
      "needs_background": "light"
     },
     "output_type": "display_data"
    }
   ],
   "source": [
    "sns.boxplot(x='CryoSleep_True',y='Age',data=df_train)"
   ]
  },
  {
   "cell_type": "code",
   "execution_count": 279,
   "id": "82448e86",
   "metadata": {},
   "outputs": [
    {
     "data": {
      "text/html": [
       "<div>\n",
       "<style scoped>\n",
       "    .dataframe tbody tr th:only-of-type {\n",
       "        vertical-align: middle;\n",
       "    }\n",
       "\n",
       "    .dataframe tbody tr th {\n",
       "        vertical-align: top;\n",
       "    }\n",
       "\n",
       "    .dataframe thead th {\n",
       "        text-align: right;\n",
       "    }\n",
       "</style>\n",
       "<table border=\"1\" class=\"dataframe\">\n",
       "  <thead>\n",
       "    <tr style=\"text-align: right;\">\n",
       "      <th></th>\n",
       "      <th>PassengerId</th>\n",
       "      <th>HomePlanet</th>\n",
       "      <th>Destination</th>\n",
       "      <th>Age</th>\n",
       "      <th>RoomService</th>\n",
       "      <th>FoodCourt</th>\n",
       "      <th>ShoppingMall</th>\n",
       "      <th>Spa</th>\n",
       "      <th>VRDeck</th>\n",
       "      <th>CryoSleep_True</th>\n",
       "      <th>VIP_True</th>\n",
       "      <th>Transported_True</th>\n",
       "    </tr>\n",
       "  </thead>\n",
       "  <tbody>\n",
       "    <tr>\n",
       "      <th>0</th>\n",
       "      <td>0001_01</td>\n",
       "      <td>Europa</td>\n",
       "      <td>TRAPPIST-1e</td>\n",
       "      <td>39.0</td>\n",
       "      <td>0.0</td>\n",
       "      <td>0.0</td>\n",
       "      <td>0.0</td>\n",
       "      <td>0.0</td>\n",
       "      <td>0.0</td>\n",
       "      <td>0</td>\n",
       "      <td>0</td>\n",
       "      <td>0</td>\n",
       "    </tr>\n",
       "    <tr>\n",
       "      <th>1</th>\n",
       "      <td>0002_01</td>\n",
       "      <td>Earth</td>\n",
       "      <td>TRAPPIST-1e</td>\n",
       "      <td>24.0</td>\n",
       "      <td>109.0</td>\n",
       "      <td>9.0</td>\n",
       "      <td>25.0</td>\n",
       "      <td>549.0</td>\n",
       "      <td>44.0</td>\n",
       "      <td>0</td>\n",
       "      <td>0</td>\n",
       "      <td>1</td>\n",
       "    </tr>\n",
       "    <tr>\n",
       "      <th>2</th>\n",
       "      <td>0003_01</td>\n",
       "      <td>Europa</td>\n",
       "      <td>TRAPPIST-1e</td>\n",
       "      <td>58.0</td>\n",
       "      <td>43.0</td>\n",
       "      <td>3576.0</td>\n",
       "      <td>0.0</td>\n",
       "      <td>6715.0</td>\n",
       "      <td>49.0</td>\n",
       "      <td>0</td>\n",
       "      <td>1</td>\n",
       "      <td>0</td>\n",
       "    </tr>\n",
       "    <tr>\n",
       "      <th>3</th>\n",
       "      <td>0003_02</td>\n",
       "      <td>Europa</td>\n",
       "      <td>TRAPPIST-1e</td>\n",
       "      <td>33.0</td>\n",
       "      <td>0.0</td>\n",
       "      <td>1283.0</td>\n",
       "      <td>371.0</td>\n",
       "      <td>3329.0</td>\n",
       "      <td>193.0</td>\n",
       "      <td>0</td>\n",
       "      <td>0</td>\n",
       "      <td>0</td>\n",
       "    </tr>\n",
       "    <tr>\n",
       "      <th>4</th>\n",
       "      <td>0004_01</td>\n",
       "      <td>Earth</td>\n",
       "      <td>TRAPPIST-1e</td>\n",
       "      <td>16.0</td>\n",
       "      <td>303.0</td>\n",
       "      <td>70.0</td>\n",
       "      <td>151.0</td>\n",
       "      <td>565.0</td>\n",
       "      <td>2.0</td>\n",
       "      <td>0</td>\n",
       "      <td>0</td>\n",
       "      <td>1</td>\n",
       "    </tr>\n",
       "    <tr>\n",
       "      <th>...</th>\n",
       "      <td>...</td>\n",
       "      <td>...</td>\n",
       "      <td>...</td>\n",
       "      <td>...</td>\n",
       "      <td>...</td>\n",
       "      <td>...</td>\n",
       "      <td>...</td>\n",
       "      <td>...</td>\n",
       "      <td>...</td>\n",
       "      <td>...</td>\n",
       "      <td>...</td>\n",
       "      <td>...</td>\n",
       "    </tr>\n",
       "    <tr>\n",
       "      <th>8688</th>\n",
       "      <td>9276_01</td>\n",
       "      <td>Europa</td>\n",
       "      <td>55 Cancri e</td>\n",
       "      <td>41.0</td>\n",
       "      <td>0.0</td>\n",
       "      <td>6819.0</td>\n",
       "      <td>0.0</td>\n",
       "      <td>1643.0</td>\n",
       "      <td>74.0</td>\n",
       "      <td>0</td>\n",
       "      <td>1</td>\n",
       "      <td>0</td>\n",
       "    </tr>\n",
       "    <tr>\n",
       "      <th>8689</th>\n",
       "      <td>9278_01</td>\n",
       "      <td>Earth</td>\n",
       "      <td>PSO J318.5-22</td>\n",
       "      <td>18.0</td>\n",
       "      <td>0.0</td>\n",
       "      <td>0.0</td>\n",
       "      <td>0.0</td>\n",
       "      <td>0.0</td>\n",
       "      <td>0.0</td>\n",
       "      <td>1</td>\n",
       "      <td>0</td>\n",
       "      <td>0</td>\n",
       "    </tr>\n",
       "    <tr>\n",
       "      <th>8690</th>\n",
       "      <td>9279_01</td>\n",
       "      <td>Earth</td>\n",
       "      <td>TRAPPIST-1e</td>\n",
       "      <td>26.0</td>\n",
       "      <td>0.0</td>\n",
       "      <td>0.0</td>\n",
       "      <td>1872.0</td>\n",
       "      <td>1.0</td>\n",
       "      <td>0.0</td>\n",
       "      <td>0</td>\n",
       "      <td>0</td>\n",
       "      <td>1</td>\n",
       "    </tr>\n",
       "    <tr>\n",
       "      <th>8691</th>\n",
       "      <td>9280_01</td>\n",
       "      <td>Europa</td>\n",
       "      <td>55 Cancri e</td>\n",
       "      <td>32.0</td>\n",
       "      <td>0.0</td>\n",
       "      <td>1049.0</td>\n",
       "      <td>0.0</td>\n",
       "      <td>353.0</td>\n",
       "      <td>3235.0</td>\n",
       "      <td>0</td>\n",
       "      <td>0</td>\n",
       "      <td>0</td>\n",
       "    </tr>\n",
       "    <tr>\n",
       "      <th>8692</th>\n",
       "      <td>9280_02</td>\n",
       "      <td>Europa</td>\n",
       "      <td>TRAPPIST-1e</td>\n",
       "      <td>44.0</td>\n",
       "      <td>126.0</td>\n",
       "      <td>4688.0</td>\n",
       "      <td>0.0</td>\n",
       "      <td>0.0</td>\n",
       "      <td>12.0</td>\n",
       "      <td>0</td>\n",
       "      <td>0</td>\n",
       "      <td>1</td>\n",
       "    </tr>\n",
       "  </tbody>\n",
       "</table>\n",
       "<p>8693 rows × 12 columns</p>\n",
       "</div>"
      ],
      "text/plain": [
       "     PassengerId HomePlanet    Destination   Age  RoomService  FoodCourt  \\\n",
       "0        0001_01     Europa    TRAPPIST-1e  39.0          0.0        0.0   \n",
       "1        0002_01      Earth    TRAPPIST-1e  24.0        109.0        9.0   \n",
       "2        0003_01     Europa    TRAPPIST-1e  58.0         43.0     3576.0   \n",
       "3        0003_02     Europa    TRAPPIST-1e  33.0          0.0     1283.0   \n",
       "4        0004_01      Earth    TRAPPIST-1e  16.0        303.0       70.0   \n",
       "...          ...        ...            ...   ...          ...        ...   \n",
       "8688     9276_01     Europa    55 Cancri e  41.0          0.0     6819.0   \n",
       "8689     9278_01      Earth  PSO J318.5-22  18.0          0.0        0.0   \n",
       "8690     9279_01      Earth    TRAPPIST-1e  26.0          0.0        0.0   \n",
       "8691     9280_01     Europa    55 Cancri e  32.0          0.0     1049.0   \n",
       "8692     9280_02     Europa    TRAPPIST-1e  44.0        126.0     4688.0   \n",
       "\n",
       "      ShoppingMall     Spa  VRDeck  CryoSleep_True  VIP_True  Transported_True  \n",
       "0              0.0     0.0     0.0               0         0                 0  \n",
       "1             25.0   549.0    44.0               0         0                 1  \n",
       "2              0.0  6715.0    49.0               0         1                 0  \n",
       "3            371.0  3329.0   193.0               0         0                 0  \n",
       "4            151.0   565.0     2.0               0         0                 1  \n",
       "...            ...     ...     ...             ...       ...               ...  \n",
       "8688           0.0  1643.0    74.0               0         1                 0  \n",
       "8689           0.0     0.0     0.0               1         0                 0  \n",
       "8690        1872.0     1.0     0.0               0         0                 1  \n",
       "8691           0.0   353.0  3235.0               0         0                 0  \n",
       "8692           0.0     0.0    12.0               0         0                 1  \n",
       "\n",
       "[8693 rows x 12 columns]"
      ]
     },
     "execution_count": 279,
     "metadata": {},
     "output_type": "execute_result"
    }
   ],
   "source": [
    "df_train"
   ]
  },
  {
   "cell_type": "code",
   "execution_count": 280,
   "id": "fae11e98",
   "metadata": {},
   "outputs": [
    {
     "data": {
      "text/plain": [
       "PassengerId           0\n",
       "HomePlanet          201\n",
       "Destination         182\n",
       "Age                 179\n",
       "RoomService         181\n",
       "FoodCourt           183\n",
       "ShoppingMall        208\n",
       "Spa                 183\n",
       "VRDeck              188\n",
       "CryoSleep_True        0\n",
       "VIP_True              0\n",
       "Transported_True      0\n",
       "dtype: int64"
      ]
     },
     "execution_count": 280,
     "metadata": {},
     "output_type": "execute_result"
    }
   ],
   "source": [
    "df_train.isnull().sum()"
   ]
  },
  {
   "cell_type": "code",
   "execution_count": 281,
   "id": "15e99361",
   "metadata": {},
   "outputs": [
    {
     "data": {
      "text/plain": [
       "<AxesSubplot:xlabel='HomePlanet', ylabel='Spa'>"
      ]
     },
     "execution_count": 281,
     "metadata": {},
     "output_type": "execute_result"
    },
    {
     "data": {
      "image/png": "[encoded data removed]",
      "text/plain": [
       "<Figure size 432x288 with 1 Axes>"
      ]
     },
     "metadata": {
      "needs_background": "light"
     },
     "output_type": "display_data"
    }
   ],
   "source": [
    "sns.boxplot(x='HomePlanet',y='Spa',data=df_train)"
   ]
  },
  {
   "cell_type": "code",
   "execution_count": 282,
   "id": "453a4701",
   "metadata": {},
   "outputs": [
    {
     "data": {
      "text/plain": [
       "<AxesSubplot:xlabel='HomePlanet', ylabel='Spa'>"
      ]
     },
     "execution_count": 282,
     "metadata": {},
     "output_type": "execute_result"
    },
    {
     "data": {
      "image/png": "[encoded data removed]",
      "text/plain": [
       "<Figure size 432x288 with 1 Axes>"
      ]
     },
     "metadata": {
      "needs_background": "light"
     },
     "output_type": "display_data"
    }
   ],
   "source": [
    "sns.histplot(x='HomePlanet',y='Spa',data=df_train)"
   ]
  },
  {
   "cell_type": "code",
   "execution_count": 283,
   "id": "bed39e21",
   "metadata": {},
   "outputs": [
    {
     "data": {
      "text/plain": [
       "<AxesSubplot:xlabel='HomePlanet', ylabel='Spa'>"
      ]
     },
     "execution_count": 283,
     "metadata": {},
     "output_type": "execute_result"
    },
    {
     "data": {
      "image/png": "[encoded data removed]",
      "text/plain": [
       "<Figure size 432x288 with 1 Axes>"
      ]
     },
     "metadata": {
      "needs_background": "light"
     },
     "output_type": "display_data"
    }
   ],
   "source": [
    "sns.histplot(x='HomePlanet',y='Spa',data=x)"
   ]
  },
  {
   "cell_type": "markdown",
   "id": "d82fead6",
   "metadata": {},
   "source": [
    "x=df_train[df_train['Spa']<2000]"
   ]
  },
  {
   "cell_type": "markdown",
   "id": "2c7feaf1",
   "metadata": {},
   "source": [
    "sns.boxplot(x='HomePlanet',y='Spa',data=x)"
   ]
  },
  {
   "cell_type": "markdown",
   "id": "5742ccc9",
   "metadata": {},
   "source": [
    "spa_eu_mean=df_train[df_train['HomePlanet']=='Europa']['Spa'].mean()\n",
    "spa_eu_mean"
   ]
  },
  {
   "cell_type": "markdown",
   "id": "b1878363",
   "metadata": {},
   "source": [
    "spa_eu_mean=x[x['HomePlanet']=='Europa']['Spa'].mean()\n",
    "spa_eu_mean"
   ]
  },
  {
   "cell_type": "markdown",
   "id": "049d81d2",
   "metadata": {},
   "source": [
    "spa_e_mean=df_train[df_train['HomePlanet']=='Earth']['Spa'].mean()"
   ]
  },
  {
   "cell_type": "markdown",
   "id": "1c542433",
   "metadata": {},
   "source": [
    "spa_m_mean=df_train[df_train['HomePlanet']=='Mars']['Spa'].mean()"
   ]
  },
  {
   "cell_type": "markdown",
   "id": "91495119",
   "metadata": {},
   "source": [
    "vr_eu_mean=df_train[df_train['HomePlanet']=='Europa']['VRDeck'].mean()"
   ]
  },
  {
   "cell_type": "markdown",
   "id": "93ff232a",
   "metadata": {},
   "source": [
    "vr_e_mean=df_train[df_train['HomePlanet']=='Earth']['VRDeck'].mean()"
   ]
  },
  {
   "cell_type": "markdown",
   "id": "e76ccd55",
   "metadata": {},
   "source": [
    "vr_m_mean=df_train[df_train['HomePlanet']=='Mars']['VRDeck'].mean()"
   ]
  },
  {
   "cell_type": "markdown",
   "id": "c293b9d6",
   "metadata": {},
   "source": [
    "rs_eu_mean=df_train[df_train['HomePlanet']=='Europa']['RoomService'].mean()"
   ]
  },
  {
   "cell_type": "markdown",
   "id": "4d69527f",
   "metadata": {},
   "source": [
    "rs_e_mean=df_train[df_train['HomePlanet']=='Earth']['RoomService'].mean()"
   ]
  },
  {
   "cell_type": "markdown",
   "id": "93d0afe3",
   "metadata": {},
   "source": [
    "rs_m_mean=df_train[df_train['HomePlanet']=='Mars']['RoomService'].mean()"
   ]
  },
  {
   "cell_type": "markdown",
   "id": "44707ab4",
   "metadata": {},
   "source": [
    "def spamap(x):\n",
    "    if  np.isnan(x[0]):\n",
    "        if x[1]==\"Europa\":\n",
    "            return spa_eu_mean\n",
    "        elif x[1]==\"Earth\":\n",
    "            return spa_e_mean\n",
    "        else:\n",
    "            return spa_m_mean\n",
    "    else:\n",
    "        return x[0]"
   ]
  },
  {
   "cell_type": "markdown",
   "id": "b36dbb10",
   "metadata": {},
   "source": [
    "def vrmap(x):\n",
    "    if  np.isnan(x[0]):\n",
    "        if x[1]==\"Europa\":\n",
    "            return vr_eu_mean\n",
    "        elif x[1]==\"Earth\":\n",
    "            return vr_e_mean\n",
    "        else:\n",
    "            return vr_m_mean\n",
    "    else:\n",
    "        return x[0]"
   ]
  },
  {
   "cell_type": "markdown",
   "id": "63e1be36",
   "metadata": {},
   "source": [
    "def rsmap(x):\n",
    "    if  np.isnan(x[0]):\n",
    "        if x[1]==\"Europa\":\n",
    "            return vr_eu_mean\n",
    "        elif x[1]==\"Earth\":\n",
    "            return vr_e_mean\n",
    "        else:\n",
    "            return vr_m_mean\n",
    "    else:\n",
    "        return x[0]"
   ]
  },
  {
   "cell_type": "markdown",
   "id": "c9a78c77",
   "metadata": {},
   "source": [
    "df_train['Spa']=df_train[['Spa','HomePlanet']].apply(spamap,axis=1)\n",
    "df_train['VRDeck']=df_train[['VRDeck','HomePlanet']].apply(vrmap,axis=1)\n",
    "df_train['RoomService']=df_train[['RoomService','HomePlanet']].apply(rsmap,axis=1)"
   ]
  },
  {
   "cell_type": "code",
   "execution_count": 284,
   "id": "7b0d56ef",
   "metadata": {},
   "outputs": [],
   "source": [
    "# df_train.isnull().sum()"
   ]
  },
  {
   "cell_type": "code",
   "execution_count": 285,
   "id": "606658af",
   "metadata": {},
   "outputs": [],
   "source": [
    "# df_train"
   ]
  },
  {
   "cell_type": "code",
   "execution_count": 286,
   "id": "9a407635",
   "metadata": {},
   "outputs": [],
   "source": [
    "df_train=pd.get_dummies(df_train,columns=['Destination','HomePlanet'],drop_first=True)"
   ]
  },
  {
   "cell_type": "code",
   "execution_count": 287,
   "id": "b05ea0f6",
   "metadata": {},
   "outputs": [
    {
     "data": {
      "text/plain": [
       "<AxesSubplot:>"
      ]
     },
     "execution_count": 287,
     "metadata": {},
     "output_type": "execute_result"
    },
    {
     "data": {
      "image/png": "[encoded data removed]",
      "text/plain": [
       "<Figure size 432x288 with 2 Axes>"
      ]
     },
     "metadata": {
      "needs_background": "light"
     },
     "output_type": "display_data"
    }
   ],
   "source": [
    "sns.heatmap(df_train.corr())"
   ]
  },
  {
   "cell_type": "code",
   "execution_count": 288,
   "id": "f96f5447",
   "metadata": {},
   "outputs": [
    {
     "data": {
      "text/plain": [
       "PassengerId                    0\n",
       "Age                          179\n",
       "RoomService                  181\n",
       "FoodCourt                    183\n",
       "ShoppingMall                 208\n",
       "Spa                          183\n",
       "VRDeck                       188\n",
       "CryoSleep_True                 0\n",
       "VIP_True                       0\n",
       "Transported_True               0\n",
       "Destination_PSO J318.5-22      0\n",
       "Destination_TRAPPIST-1e        0\n",
       "HomePlanet_Europa              0\n",
       "HomePlanet_Mars                0\n",
       "dtype: int64"
      ]
     },
     "execution_count": 288,
     "metadata": {},
     "output_type": "execute_result"
    }
   ],
   "source": [
    "df_train.isnull().sum()"
   ]
  },
  {
   "cell_type": "code",
   "execution_count": 289,
   "id": "46109599",
   "metadata": {},
   "outputs": [],
   "source": [
    "# df_train['RoomService']=df_train[['RoomService']].apply(zeromap,axis=1)\n",
    "# df_train['FoodCourt']=df_train[['FoodCourt']].apply(zeromap,axis=1)\n",
    "# df_train['ShoppingMall']=df_train[['ShoppingMall']].apply(zeromap,axis=1)\n",
    "# df_train['Spa']=df_train[['Spa']].apply(zeromap,axis=1)\n",
    "# df_train['VRDeck']=df_train[['VRDeck']].apply(zeromap,axis=1)\n",
    "# # df_train['Age']=df_train[['Age']].apply(zeromap,axis=1)"
   ]
  },
  {
   "cell_type": "code",
   "execution_count": 290,
   "id": "002ec4a1",
   "metadata": {},
   "outputs": [],
   "source": [
    "# df_train"
   ]
  },
  {
   "cell_type": "code",
   "execution_count": 291,
   "id": "7062b9f5",
   "metadata": {},
   "outputs": [],
   "source": [
    "# df_train=df_train.dropna()"
   ]
  },
  {
   "cell_type": "code",
   "execution_count": 292,
   "id": "863f0f54",
   "metadata": {},
   "outputs": [],
   "source": [
    "# df_train"
   ]
  },
  {
   "cell_type": "code",
   "execution_count": 293,
   "id": "99a727af",
   "metadata": {},
   "outputs": [],
   "source": [
    "# df_train.isnull().sum()"
   ]
  },
  {
   "cell_type": "code",
   "execution_count": 294,
   "id": "32a4503e",
   "metadata": {},
   "outputs": [],
   "source": [
    " df_train=df_train.dropna()"
   ]
  },
  {
   "cell_type": "code",
   "execution_count": 295,
   "id": "c2cc9a03",
   "metadata": {},
   "outputs": [],
   "source": [
    "df_train.set_index('PassengerId',inplace=True)"
   ]
  },
  {
   "cell_type": "code",
   "execution_count": 350,
   "id": "475e668b",
   "metadata": {},
   "outputs": [
    {
     "data": {
      "text/html": [
       "<div>\n",
       "<style scoped>\n",
       "    .dataframe tbody tr th:only-of-type {\n",
       "        vertical-align: middle;\n",
       "    }\n",
       "\n",
       "    .dataframe tbody tr th {\n",
       "        vertical-align: top;\n",
       "    }\n",
       "\n",
       "    .dataframe thead th {\n",
       "        text-align: right;\n",
       "    }\n",
       "</style>\n",
       "<table border=\"1\" class=\"dataframe\">\n",
       "  <thead>\n",
       "    <tr style=\"text-align: right;\">\n",
       "      <th></th>\n",
       "      <th>Age</th>\n",
       "      <th>RoomService</th>\n",
       "      <th>FoodCourt</th>\n",
       "      <th>ShoppingMall</th>\n",
       "      <th>Spa</th>\n",
       "      <th>VRDeck</th>\n",
       "      <th>CryoSleep_True</th>\n",
       "      <th>VIP_True</th>\n",
       "      <th>Transported_True</th>\n",
       "      <th>Destination_PSO J318.5-22</th>\n",
       "      <th>Destination_TRAPPIST-1e</th>\n",
       "      <th>HomePlanet_Europa</th>\n",
       "      <th>HomePlanet_Mars</th>\n",
       "    </tr>\n",
       "    <tr>\n",
       "      <th>PassengerId</th>\n",
       "      <th></th>\n",
       "      <th></th>\n",
       "      <th></th>\n",
       "      <th></th>\n",
       "      <th></th>\n",
       "      <th></th>\n",
       "      <th></th>\n",
       "      <th></th>\n",
       "      <th></th>\n",
       "      <th></th>\n",
       "      <th></th>\n",
       "      <th></th>\n",
       "      <th></th>\n",
       "    </tr>\n",
       "  </thead>\n",
       "  <tbody>\n",
       "    <tr>\n",
       "      <th>0001_01</th>\n",
       "      <td>39.0</td>\n",
       "      <td>0.0</td>\n",
       "      <td>0.0</td>\n",
       "      <td>0.0</td>\n",
       "      <td>0.0</td>\n",
       "      <td>0.0</td>\n",
       "      <td>0</td>\n",
       "      <td>0</td>\n",
       "      <td>0</td>\n",
       "      <td>0</td>\n",
       "      <td>1</td>\n",
       "      <td>1</td>\n",
       "      <td>0</td>\n",
       "    </tr>\n",
       "    <tr>\n",
       "      <th>0002_01</th>\n",
       "      <td>24.0</td>\n",
       "      <td>109.0</td>\n",
       "      <td>9.0</td>\n",
       "      <td>25.0</td>\n",
       "      <td>549.0</td>\n",
       "      <td>44.0</td>\n",
       "      <td>0</td>\n",
       "      <td>0</td>\n",
       "      <td>1</td>\n",
       "      <td>0</td>\n",
       "      <td>1</td>\n",
       "      <td>0</td>\n",
       "      <td>0</td>\n",
       "    </tr>\n",
       "    <tr>\n",
       "      <th>0003_01</th>\n",
       "      <td>58.0</td>\n",
       "      <td>43.0</td>\n",
       "      <td>3576.0</td>\n",
       "      <td>0.0</td>\n",
       "      <td>6715.0</td>\n",
       "      <td>49.0</td>\n",
       "      <td>0</td>\n",
       "      <td>1</td>\n",
       "      <td>0</td>\n",
       "      <td>0</td>\n",
       "      <td>1</td>\n",
       "      <td>1</td>\n",
       "      <td>0</td>\n",
       "    </tr>\n",
       "    <tr>\n",
       "      <th>0003_02</th>\n",
       "      <td>33.0</td>\n",
       "      <td>0.0</td>\n",
       "      <td>1283.0</td>\n",
       "      <td>371.0</td>\n",
       "      <td>3329.0</td>\n",
       "      <td>193.0</td>\n",
       "      <td>0</td>\n",
       "      <td>0</td>\n",
       "      <td>0</td>\n",
       "      <td>0</td>\n",
       "      <td>1</td>\n",
       "      <td>1</td>\n",
       "      <td>0</td>\n",
       "    </tr>\n",
       "    <tr>\n",
       "      <th>0004_01</th>\n",
       "      <td>16.0</td>\n",
       "      <td>303.0</td>\n",
       "      <td>70.0</td>\n",
       "      <td>151.0</td>\n",
       "      <td>565.0</td>\n",
       "      <td>2.0</td>\n",
       "      <td>0</td>\n",
       "      <td>0</td>\n",
       "      <td>1</td>\n",
       "      <td>0</td>\n",
       "      <td>1</td>\n",
       "      <td>0</td>\n",
       "      <td>0</td>\n",
       "    </tr>\n",
       "    <tr>\n",
       "      <th>...</th>\n",
       "      <td>...</td>\n",
       "      <td>...</td>\n",
       "      <td>...</td>\n",
       "      <td>...</td>\n",
       "      <td>...</td>\n",
       "      <td>...</td>\n",
       "      <td>...</td>\n",
       "      <td>...</td>\n",
       "      <td>...</td>\n",
       "      <td>...</td>\n",
       "      <td>...</td>\n",
       "      <td>...</td>\n",
       "      <td>...</td>\n",
       "    </tr>\n",
       "    <tr>\n",
       "      <th>9276_01</th>\n",
       "      <td>41.0</td>\n",
       "      <td>0.0</td>\n",
       "      <td>6819.0</td>\n",
       "      <td>0.0</td>\n",
       "      <td>1643.0</td>\n",
       "      <td>74.0</td>\n",
       "      <td>0</td>\n",
       "      <td>1</td>\n",
       "      <td>0</td>\n",
       "      <td>0</td>\n",
       "      <td>0</td>\n",
       "      <td>1</td>\n",
       "      <td>0</td>\n",
       "    </tr>\n",
       "    <tr>\n",
       "      <th>9278_01</th>\n",
       "      <td>18.0</td>\n",
       "      <td>0.0</td>\n",
       "      <td>0.0</td>\n",
       "      <td>0.0</td>\n",
       "      <td>0.0</td>\n",
       "      <td>0.0</td>\n",
       "      <td>1</td>\n",
       "      <td>0</td>\n",
       "      <td>0</td>\n",
       "      <td>1</td>\n",
       "      <td>0</td>\n",
       "      <td>0</td>\n",
       "      <td>0</td>\n",
       "    </tr>\n",
       "    <tr>\n",
       "      <th>9279_01</th>\n",
       "      <td>26.0</td>\n",
       "      <td>0.0</td>\n",
       "      <td>0.0</td>\n",
       "      <td>1872.0</td>\n",
       "      <td>1.0</td>\n",
       "      <td>0.0</td>\n",
       "      <td>0</td>\n",
       "      <td>0</td>\n",
       "      <td>1</td>\n",
       "      <td>0</td>\n",
       "      <td>1</td>\n",
       "      <td>0</td>\n",
       "      <td>0</td>\n",
       "    </tr>\n",
       "    <tr>\n",
       "      <th>9280_01</th>\n",
       "      <td>32.0</td>\n",
       "      <td>0.0</td>\n",
       "      <td>1049.0</td>\n",
       "      <td>0.0</td>\n",
       "      <td>353.0</td>\n",
       "      <td>3235.0</td>\n",
       "      <td>0</td>\n",
       "      <td>0</td>\n",
       "      <td>0</td>\n",
       "      <td>0</td>\n",
       "      <td>0</td>\n",
       "      <td>1</td>\n",
       "      <td>0</td>\n",
       "    </tr>\n",
       "    <tr>\n",
       "      <th>9280_02</th>\n",
       "      <td>44.0</td>\n",
       "      <td>126.0</td>\n",
       "      <td>4688.0</td>\n",
       "      <td>0.0</td>\n",
       "      <td>0.0</td>\n",
       "      <td>12.0</td>\n",
       "      <td>0</td>\n",
       "      <td>0</td>\n",
       "      <td>1</td>\n",
       "      <td>0</td>\n",
       "      <td>1</td>\n",
       "      <td>1</td>\n",
       "      <td>0</td>\n",
       "    </tr>\n",
       "  </tbody>\n",
       "</table>\n",
       "<p>7620 rows × 13 columns</p>\n",
       "</div>"
      ],
      "text/plain": [
       "              Age  RoomService  FoodCourt  ShoppingMall     Spa  VRDeck  \\\n",
       "PassengerId                                                               \n",
       "0001_01      39.0          0.0        0.0           0.0     0.0     0.0   \n",
       "0002_01      24.0        109.0        9.0          25.0   549.0    44.0   \n",
       "0003_01      58.0         43.0     3576.0           0.0  6715.0    49.0   \n",
       "0003_02      33.0          0.0     1283.0         371.0  3329.0   193.0   \n",
       "0004_01      16.0        303.0       70.0         151.0   565.0     2.0   \n",
       "...           ...          ...        ...           ...     ...     ...   \n",
       "9276_01      41.0          0.0     6819.0           0.0  1643.0    74.0   \n",
       "9278_01      18.0          0.0        0.0           0.0     0.0     0.0   \n",
       "9279_01      26.0          0.0        0.0        1872.0     1.0     0.0   \n",
       "9280_01      32.0          0.0     1049.0           0.0   353.0  3235.0   \n",
       "9280_02      44.0        126.0     4688.0           0.0     0.0    12.0   \n",
       "\n",
       "             CryoSleep_True  VIP_True  Transported_True  \\\n",
       "PassengerId                                               \n",
       "0001_01                   0         0                 0   \n",
       "0002_01                   0         0                 1   \n",
       "0003_01                   0         1                 0   \n",
       "0003_02                   0         0                 0   \n",
       "0004_01                   0         0                 1   \n",
       "...                     ...       ...               ...   \n",
       "9276_01                   0         1                 0   \n",
       "9278_01                   1         0                 0   \n",
       "9279_01                   0         0                 1   \n",
       "9280_01                   0         0                 0   \n",
       "9280_02                   0         0                 1   \n",
       "\n",
       "             Destination_PSO J318.5-22  Destination_TRAPPIST-1e  \\\n",
       "PassengerId                                                       \n",
       "0001_01                              0                        1   \n",
       "0002_01                              0                        1   \n",
       "0003_01                              0                        1   \n",
       "0003_02                              0                        1   \n",
       "0004_01                              0                        1   \n",
       "...                                ...                      ...   \n",
       "9276_01                              0                        0   \n",
       "9278_01                              1                        0   \n",
       "9279_01                              0                        1   \n",
       "9280_01                              0                        0   \n",
       "9280_02                              0                        1   \n",
       "\n",
       "             HomePlanet_Europa  HomePlanet_Mars  \n",
       "PassengerId                                      \n",
       "0001_01                      1                0  \n",
       "0002_01                      0                0  \n",
       "0003_01                      1                0  \n",
       "0003_02                      1                0  \n",
       "0004_01                      0                0  \n",
       "...                        ...              ...  \n",
       "9276_01                      1                0  \n",
       "9278_01                      0                0  \n",
       "9279_01                      0                0  \n",
       "9280_01                      1                0  \n",
       "9280_02                      1                0  \n",
       "\n",
       "[7620 rows x 13 columns]"
      ]
     },
     "execution_count": 350,
     "metadata": {},
     "output_type": "execute_result"
    }
   ],
   "source": [
    "df_train"
   ]
  },
  {
   "cell_type": "code",
   "execution_count": 296,
   "id": "ad48f93f",
   "metadata": {},
   "outputs": [],
   "source": [
    "from sklearn.model_selection import RandomizedSearchCV,GridSearchCV,train_test_split\n",
    "from sklearn.feature_extraction.text import TfidfVectorizer\n",
    "from sklearn.pipeline import Pipeline\n",
    "from lightgbm import LGBMClassifier\n",
    "from xgboost import XGBClassifier\n",
    "from sklearn.naive_bayes import MultinomialNB\n",
    "from sklearn.ensemble import RandomForestClassifier\n",
    "from sklearn.ensemble import AdaBoostClassifier\n",
    "from sklearn.tree import DecisionTreeClassifier\n",
    "from sklearn.ensemble import GradientBoostingClassifier\n",
    "from sklearn.linear_model import LogisticRegression\n",
    "from sklearn.linear_model import SGDClassifier\n",
    "from sklearn.metrics import accuracy_score,classification_report,confusion_matrix\n",
    "from sklearn.model_selection import train_test_split\n",
    "X=df_train.drop('Transported_True',axis=1)\n",
    "y=df_train['Transported_True']\n",
    "X_train, X_test, y_train, y_test = train_test_split(X, y, test_size=0.3, random_state=42)"
   ]
  },
  {
   "cell_type": "code",
   "execution_count": 297,
   "id": "e95d6890",
   "metadata": {},
   "outputs": [
    {
     "name": "stdout",
     "output_type": "stream",
     "text": [
      "              precision    recall  f1-score   support\n",
      "\n",
      "           0       0.75      0.85      0.80      1012\n",
      "           1       0.86      0.78      0.82      1274\n",
      "\n",
      "    accuracy                           0.81      2286\n",
      "   macro avg       0.81      0.81      0.81      2286\n",
      "weighted avg       0.81      0.81      0.81      2286\n",
      "\n",
      "[[856 156]\n",
      " [281 993]]\n",
      "0.8088363954505686\n"
     ]
    }
   ],
   "source": [
    "steps_gb=[(\"gbclassifier\",GradientBoostingClassifier())]\n",
    "pipegb=Pipeline(steps_gb)\n",
    "pipegb.fit(X_train,y_train)\n",
    "pred=pipegb.predict(X_test)\n",
    "print(classification_report(pred,y_test))\n",
    "print(confusion_matrix(pred,y_test))\n",
    "print(accuracy_score(pred,y_test))"
   ]
  },
  {
   "cell_type": "code",
   "execution_count": 298,
   "id": "f17c873e",
   "metadata": {},
   "outputs": [],
   "source": [
    "gb_parameter={'gbclassifier__n_estimators':[80,90,100,110],\n",
    "           'gbclassifier__criterion': ['friedman_mse', 'squared_error', 'mse'],\n",
    "           'gbclassifier__max_depth': [1,2,3,4,5,6,7,8],\n",
    "           'gbclassifier__max_features':['auto','sqrt','log2']}\n",
    "\n",
    "gbmodel_hyper=GridSearchCV(pipegb,param_grid=gb_parameter,n_jobs=-1,scoring='accuracy',cv=5)\n",
    "gbmodel_hyper.fit(X_train,y_train)\n",
    "pred=gbmodel_hyper.predict(X_test)"
   ]
  },
  {
   "cell_type": "code",
   "execution_count": 299,
   "id": "a986636b",
   "metadata": {},
   "outputs": [
    {
     "data": {
      "text/plain": [
       "{'gbclassifier__criterion': 'squared_error',\n",
       " 'gbclassifier__max_depth': 5,\n",
       " 'gbclassifier__max_features': 'auto',\n",
       " 'gbclassifier__n_estimators': 80}"
      ]
     },
     "execution_count": 299,
     "metadata": {},
     "output_type": "execute_result"
    }
   ],
   "source": [
    "gbmodel_hyper.best_params_"
   ]
  },
  {
   "cell_type": "code",
   "execution_count": 300,
   "id": "ae66e765",
   "metadata": {},
   "outputs": [
    {
     "name": "stdout",
     "output_type": "stream",
     "text": [
      "0.8097112860892388\n",
      "              precision    recall  f1-score   support\n",
      "\n",
      "           0       0.77      0.84      0.80      1046\n",
      "           1       0.85      0.79      0.82      1240\n",
      "\n",
      "    accuracy                           0.81      2286\n",
      "   macro avg       0.81      0.81      0.81      2286\n",
      "weighted avg       0.81      0.81      0.81      2286\n",
      "\n",
      "[[874 172]\n",
      " [263 977]]\n"
     ]
    }
   ],
   "source": [
    "print(accuracy_score(pred,y_test))\n",
    "print(classification_report(pred,y_test))\n",
    "print(confusion_matrix(pred,y_test))"
   ]
  },
  {
   "cell_type": "code",
   "execution_count": 327,
   "id": "46782684",
   "metadata": {},
   "outputs": [
    {
     "name": "stdout",
     "output_type": "stream",
     "text": [
      "              precision    recall  f1-score   support\n",
      "\n",
      "           0       0.78      0.82      0.80      1079\n",
      "           1       0.83      0.79      0.81      1207\n",
      "\n",
      "    accuracy                           0.80      2286\n",
      "   macro avg       0.80      0.80      0.80      2286\n",
      "weighted avg       0.80      0.80      0.80      2286\n",
      "\n",
      "[[883 196]\n",
      " [254 953]]\n",
      "0.8031496062992126\n"
     ]
    }
   ],
   "source": [
    "steps_lgbm=[(\"lgbclassifier\",LGBMClassifier())]\n",
    "pipelgbm=Pipeline(steps_lgbm)\n",
    "pipelgbm.fit(X_train,y_train)\n",
    "pred=pipelgbm.predict(X_test)\n",
    "print(classification_report(pred,y_test))\n",
    "print(confusion_matrix(pred,y_test))\n",
    "print(accuracy_score(pred,y_test))"
   ]
  },
  {
   "cell_type": "code",
   "execution_count": 328,
   "id": "c695273d",
   "metadata": {},
   "outputs": [
    {
     "name": "stdout",
     "output_type": "stream",
     "text": [
      "              precision    recall  f1-score   support\n",
      "\n",
      "           0       0.65      0.89      0.75       836\n",
      "           1       0.92      0.73      0.81      1450\n",
      "\n",
      "    accuracy                           0.79      2286\n",
      "   macro avg       0.79      0.81      0.78      2286\n",
      "weighted avg       0.82      0.79      0.79      2286\n",
      "\n",
      "[[ 743   93]\n",
      " [ 394 1056]]\n",
      "0.7869641294838146\n"
     ]
    }
   ],
   "source": [
    "steps_mnb=[(\"mnbclassifier\",MultinomialNB())]\n",
    "pipemnb=Pipeline(steps_mnb)\n",
    "pipemnb.fit(X_train,y_train)\n",
    "pred=pipemnb.predict(X_test)\n",
    "print(classification_report(pred,y_test))\n",
    "print(confusion_matrix(pred,y_test))\n",
    "print(accuracy_score(pred,y_test))"
   ]
  },
  {
   "cell_type": "code",
   "execution_count": 329,
   "id": "2b9808d1",
   "metadata": {},
   "outputs": [
    {
     "name": "stdout",
     "output_type": "stream",
     "text": [
      "              precision    recall  f1-score   support\n",
      "\n",
      "           0       0.77      0.81      0.79      1084\n",
      "           1       0.82      0.78      0.80      1202\n",
      "\n",
      "    accuracy                           0.79      2286\n",
      "   macro avg       0.79      0.79      0.79      2286\n",
      "weighted avg       0.79      0.79      0.79      2286\n",
      "\n",
      "[[874 210]\n",
      " [263 939]]\n",
      "0.7930883639545057\n"
     ]
    }
   ],
   "source": [
    "steps_xgb=[(\"xgbclassifier\",XGBClassifier())]\n",
    "pipexgb=Pipeline(steps_xgb)\n",
    "pipexgb.fit(X_train,y_train)\n",
    "pred=pipexgb.predict(X_test)\n",
    "print(classification_report(pred,y_test))\n",
    "print(confusion_matrix(pred,y_test))\n",
    "print(accuracy_score(pred,y_test))"
   ]
  },
  {
   "cell_type": "code",
   "execution_count": 330,
   "id": "edaf0f69",
   "metadata": {},
   "outputs": [
    {
     "name": "stdout",
     "output_type": "stream",
     "text": [
      "              precision    recall  f1-score   support\n",
      "\n",
      "           0       0.80      0.79      0.80      1160\n",
      "           1       0.79      0.80      0.79      1126\n",
      "\n",
      "    accuracy                           0.80      2286\n",
      "   macro avg       0.80      0.80      0.80      2286\n",
      "weighted avg       0.80      0.80      0.80      2286\n",
      "\n",
      "[[915 245]\n",
      " [222 904]]\n",
      "0.7957130358705162\n"
     ]
    }
   ],
   "source": [
    "steps_rf=[(\"rfclassifier\",RandomForestClassifier())]\n",
    "piperf=Pipeline(steps_rf)\n",
    "piperf.fit(X_train,y_train)\n",
    "pred=piperf.predict(X_test)\n",
    "print(classification_report(pred,y_test))\n",
    "print(confusion_matrix(pred,y_test))\n",
    "print(accuracy_score(pred,y_test))"
   ]
  },
  {
   "cell_type": "code",
   "execution_count": 331,
   "id": "b6050313",
   "metadata": {},
   "outputs": [
    {
     "name": "stdout",
     "output_type": "stream",
     "text": [
      "              precision    recall  f1-score   support\n",
      "\n",
      "           0       0.77      0.82      0.80      1072\n",
      "           1       0.83      0.79      0.81      1214\n",
      "\n",
      "    accuracy                           0.80      2286\n",
      "   macro avg       0.80      0.80      0.80      2286\n",
      "weighted avg       0.80      0.80      0.80      2286\n",
      "\n",
      "[[879 193]\n",
      " [258 956]]\n",
      "0.8027121609798775\n"
     ]
    }
   ],
   "source": [
    "steps_ab=[(\"abclassifier\",AdaBoostClassifier())]\n",
    "pipeab=Pipeline(steps_ab)\n",
    "pipeab.fit(X_train,y_train)\n",
    "pred=pipeab.predict(X_test)\n",
    "print(classification_report(pred,y_test))\n",
    "print(confusion_matrix(pred,y_test))\n",
    "print(accuracy_score(pred,y_test))"
   ]
  },
  {
   "cell_type": "code",
   "execution_count": 332,
   "id": "5374e4ef",
   "metadata": {},
   "outputs": [
    {
     "name": "stdout",
     "output_type": "stream",
     "text": [
      "              precision    recall  f1-score   support\n",
      "\n",
      "           0       0.75      0.85      0.80      1012\n",
      "           1       0.86      0.78      0.82      1274\n",
      "\n",
      "    accuracy                           0.81      2286\n",
      "   macro avg       0.81      0.81      0.81      2286\n",
      "weighted avg       0.81      0.81      0.81      2286\n",
      "\n",
      "[[856 156]\n",
      " [281 993]]\n",
      "0.8088363954505686\n"
     ]
    }
   ],
   "source": [
    "steps_gb=[(\"gbclassifier\",GradientBoostingClassifier())]\n",
    "pipegb=Pipeline(steps_gb)\n",
    "pipegb.fit(X_train,y_train)\n",
    "pred=pipegb.predict(X_test)\n",
    "print(classification_report(pred,y_test))\n",
    "print(confusion_matrix(pred,y_test))\n",
    "print(accuracy_score(pred,y_test))"
   ]
  },
  {
   "cell_type": "code",
   "execution_count": 333,
   "id": "1ef3d3f7",
   "metadata": {},
   "outputs": [
    {
     "name": "stdout",
     "output_type": "stream",
     "text": [
      "              precision    recall  f1-score   support\n",
      "\n",
      "           0       0.78      0.79      0.79      1119\n",
      "           1       0.80      0.78      0.79      1167\n",
      "\n",
      "    accuracy                           0.79      2286\n",
      "   macro avg       0.79      0.79      0.79      2286\n",
      "weighted avg       0.79      0.79      0.79      2286\n",
      "\n",
      "[[886 233]\n",
      " [251 916]]\n",
      "0.7882764654418197\n"
     ]
    },
    {
     "name": "stderr",
     "output_type": "stream",
     "text": [
      "C:\\Users\\vijay\\AppData\\Local\\Programs\\Python\\Python310\\lib\\site-packages\\sklearn\\linear_model\\_logistic.py:814: ConvergenceWarning: lbfgs failed to converge (status=1):\n",
      "STOP: TOTAL NO. of ITERATIONS REACHED LIMIT.\n",
      "\n",
      "Increase the number of iterations (max_iter) or scale the data as shown in:\n",
      "    https://scikit-learn.org/stable/modules/preprocessing.html\n",
      "Please also refer to the documentation for alternative solver options:\n",
      "    https://scikit-learn.org/stable/modules/linear_model.html#logistic-regression\n",
      "  n_iter_i = _check_optimize_result(\n"
     ]
    }
   ],
   "source": [
    "steps_log=[(\"logclassifier\",LogisticRegression())]\n",
    "pipelog=Pipeline(steps_log)\n",
    "pipelog.fit(X_train,y_train)\n",
    "pred=pipelog.predict(X_test)\n",
    "print(classification_report(pred,y_test))\n",
    "print(confusion_matrix(pred,y_test))\n",
    "print(accuracy_score(pred,y_test))"
   ]
  },
  {
   "cell_type": "code",
   "execution_count": 334,
   "id": "6916f41c",
   "metadata": {},
   "outputs": [
    {
     "name": "stdout",
     "output_type": "stream",
     "text": [
      "              precision    recall  f1-score   support\n",
      "\n",
      "           0       0.83      0.72      0.77      1313\n",
      "           1       0.68      0.80      0.73       973\n",
      "\n",
      "    accuracy                           0.75      2286\n",
      "   macro avg       0.75      0.76      0.75      2286\n",
      "weighted avg       0.76      0.75      0.75      2286\n",
      "\n",
      "[[940 373]\n",
      " [197 776]]\n",
      "0.7506561679790026\n"
     ]
    }
   ],
   "source": [
    "steps_sdg=[(\"sdgclassifier\",SGDClassifier())]\n",
    "pipesdg=Pipeline(steps_sdg)\n",
    "pipesdg.fit(X_train,y_train)\n",
    "pred=pipesdg.predict(X_test)\n",
    "print(classification_report(pred,y_test))\n",
    "print(confusion_matrix(pred,y_test))\n",
    "print(accuracy_score(pred,y_test))"
   ]
  },
  {
   "cell_type": "code",
   "execution_count": 335,
   "id": "8f4680e5",
   "metadata": {},
   "outputs": [
    {
     "name": "stdout",
     "output_type": "stream",
     "text": [
      "              precision    recall  f1-score   support\n",
      "\n",
      "           0       0.68      0.75      0.72      1035\n",
      "           1       0.78      0.71      0.74      1251\n",
      "\n",
      "    accuracy                           0.73      2286\n",
      "   macro avg       0.73      0.73      0.73      2286\n",
      "weighted avg       0.73      0.73      0.73      2286\n",
      "\n",
      "[[778 257]\n",
      " [359 892]]\n",
      "0.7305336832895888\n"
     ]
    }
   ],
   "source": [
    "steps_dt=[(\"dtclassifier\",DecisionTreeClassifier())]\n",
    "pipedt=Pipeline(steps_dt)\n",
    "pipedt.fit(X_train,y_train)\n",
    "pred=pipedt.predict(X_test)\n",
    "print(classification_report(pred,y_test))\n",
    "print(confusion_matrix(pred,y_test))\n",
    "print(accuracy_score(pred,y_test))"
   ]
  },
  {
   "cell_type": "code",
   "execution_count": null,
   "id": "1e41df87",
   "metadata": {},
   "outputs": [],
   "source": []
  },
  {
   "cell_type": "markdown",
   "id": "1397e603",
   "metadata": {},
   "source": [
    "from sklearn.ensemble import RandomForestClassifier\n",
    "\n",
    "feature_names = [f\"feature {i}\" for i in range(X.shape[1])]\n",
    "forest = RandomForestClassifier(random_state=0)\n",
    "forest.fit(X_train, y_train)"
   ]
  },
  {
   "cell_type": "markdown",
   "id": "cf7c8874",
   "metadata": {},
   "source": [
    "import time\n",
    "start_time = time.time()\n",
    "importances = forest.feature_importances_\n",
    "std = np.std([tree.feature_importances_ for tree in forest.estimators_], axis=0)\n",
    "elapsed_time = time.time() - start_time\n",
    "print(f\"Elapsed time to compute the importances: {elapsed_time:.3f} seconds\")"
   ]
  },
  {
   "cell_type": "markdown",
   "id": "3004e8ed",
   "metadata": {},
   "source": [
    "forest_importances = pd.Series(importances, index=feature_names)\n",
    "fig, ax = plt.subplots()\n",
    "forest_importances.plot.bar(yerr=std, ax=ax)\n",
    "ax.set_title(\"Feature importances using MDI\")\n",
    "ax.set_ylabel(\"Mean decrease in impurity\")\n",
    "fig.tight_layout()"
   ]
  },
  {
   "cell_type": "markdown",
   "id": "80ae34b0",
   "metadata": {},
   "source": []
  },
  {
   "cell_type": "code",
   "execution_count": 303,
   "id": "0cd4ef20",
   "metadata": {},
   "outputs": [],
   "source": [
    "df_test=df_test.drop(['Name','Cabin'],axis=1)"
   ]
  },
  {
   "cell_type": "markdown",
   "id": "7f1693f7",
   "metadata": {},
   "source": [
    "rs_null=df_test[df_test['RoomService'].isnull()==True].index\n",
    "rs_null"
   ]
  },
  {
   "cell_type": "markdown",
   "id": "55e3d8c6",
   "metadata": {},
   "source": [
    "vr_null=df_test[df_test['VRDeck'].isnull()==True].index\n",
    "vr_null"
   ]
  },
  {
   "cell_type": "markdown",
   "id": "2ab3d3db",
   "metadata": {},
   "source": [
    "spa_null=df_test[df_test['Spa'].isnull()==True].index\n",
    "spa_null"
   ]
  },
  {
   "cell_type": "markdown",
   "id": "7e9f724a",
   "metadata": {},
   "source": [
    "df_test['RoomService'][rs_null]=df_test['RoomService'].mean()\n",
    "df_test['VRDeck'][vr_null]=df_test['VRDeck'].mean()\n",
    "df_test['Spa'][spa_null]=df_test['Spa'].mean()"
   ]
  },
  {
   "cell_type": "code",
   "execution_count": 304,
   "id": "cc7b7a4f",
   "metadata": {},
   "outputs": [],
   "source": [
    "def agemap(x):\n",
    "    if np.isnan(x[0]):\n",
    "        if x[1]==\"Europa\":\n",
    "            return 34\n",
    "        elif x[1]==\"Earth\":\n",
    "            return 22\n",
    "        else:\n",
    "            return 28\n",
    "    else:\n",
    "        return x[0]"
   ]
  },
  {
   "cell_type": "code",
   "execution_count": 305,
   "id": "ece0e3a8",
   "metadata": {},
   "outputs": [],
   "source": [
    "def zeromap(x):\n",
    "    if np.isnan(x[0]):\n",
    "                return 0\n",
    "    else:\n",
    "        return x[0]"
   ]
  },
  {
   "cell_type": "code",
   "execution_count": 369,
   "id": "cce94ce6",
   "metadata": {},
   "outputs": [],
   "source": [
    "df_test['Age']=df_test[['Age','HomePlanet']].apply(zeromap,axis=1)"
   ]
  },
  {
   "cell_type": "code",
   "execution_count": 370,
   "id": "d5a6d332",
   "metadata": {},
   "outputs": [],
   "source": [
    "df_test=df_test.drop(['Name','Cabin'],axis=1)"
   ]
  },
  {
   "cell_type": "code",
   "execution_count": 371,
   "id": "8e6e17ad",
   "metadata": {},
   "outputs": [],
   "source": [
    "df_test=pd.get_dummies(df_test,columns=['CryoSleep','VIP','Destination','HomePlanet'],drop_first=True)"
   ]
  },
  {
   "cell_type": "code",
   "execution_count": 372,
   "id": "efd28827",
   "metadata": {},
   "outputs": [],
   "source": [
    "df_test.set_index('PassengerId',inplace=True)"
   ]
  },
  {
   "cell_type": "code",
   "execution_count": 373,
   "id": "27dd123a",
   "metadata": {},
   "outputs": [
    {
     "data": {
      "text/html": [
       "<div>\n",
       "<style scoped>\n",
       "    .dataframe tbody tr th:only-of-type {\n",
       "        vertical-align: middle;\n",
       "    }\n",
       "\n",
       "    .dataframe tbody tr th {\n",
       "        vertical-align: top;\n",
       "    }\n",
       "\n",
       "    .dataframe thead th {\n",
       "        text-align: right;\n",
       "    }\n",
       "</style>\n",
       "<table border=\"1\" class=\"dataframe\">\n",
       "  <thead>\n",
       "    <tr style=\"text-align: right;\">\n",
       "      <th></th>\n",
       "      <th>Age</th>\n",
       "      <th>RoomService</th>\n",
       "      <th>FoodCourt</th>\n",
       "      <th>ShoppingMall</th>\n",
       "      <th>Spa</th>\n",
       "      <th>VRDeck</th>\n",
       "      <th>CryoSleep_True</th>\n",
       "      <th>VIP_True</th>\n",
       "      <th>Destination_PSO J318.5-22</th>\n",
       "      <th>Destination_TRAPPIST-1e</th>\n",
       "      <th>HomePlanet_Europa</th>\n",
       "      <th>HomePlanet_Mars</th>\n",
       "    </tr>\n",
       "    <tr>\n",
       "      <th>PassengerId</th>\n",
       "      <th></th>\n",
       "      <th></th>\n",
       "      <th></th>\n",
       "      <th></th>\n",
       "      <th></th>\n",
       "      <th></th>\n",
       "      <th></th>\n",
       "      <th></th>\n",
       "      <th></th>\n",
       "      <th></th>\n",
       "      <th></th>\n",
       "      <th></th>\n",
       "    </tr>\n",
       "  </thead>\n",
       "  <tbody>\n",
       "    <tr>\n",
       "      <th>0013_01</th>\n",
       "      <td>27.0</td>\n",
       "      <td>0.0</td>\n",
       "      <td>0.0</td>\n",
       "      <td>0.0</td>\n",
       "      <td>0.0</td>\n",
       "      <td>0.0</td>\n",
       "      <td>1</td>\n",
       "      <td>0</td>\n",
       "      <td>0</td>\n",
       "      <td>1</td>\n",
       "      <td>0</td>\n",
       "      <td>0</td>\n",
       "    </tr>\n",
       "    <tr>\n",
       "      <th>0018_01</th>\n",
       "      <td>19.0</td>\n",
       "      <td>0.0</td>\n",
       "      <td>9.0</td>\n",
       "      <td>0.0</td>\n",
       "      <td>2823.0</td>\n",
       "      <td>0.0</td>\n",
       "      <td>0</td>\n",
       "      <td>0</td>\n",
       "      <td>0</td>\n",
       "      <td>1</td>\n",
       "      <td>0</td>\n",
       "      <td>0</td>\n",
       "    </tr>\n",
       "    <tr>\n",
       "      <th>0019_01</th>\n",
       "      <td>31.0</td>\n",
       "      <td>0.0</td>\n",
       "      <td>0.0</td>\n",
       "      <td>0.0</td>\n",
       "      <td>0.0</td>\n",
       "      <td>0.0</td>\n",
       "      <td>1</td>\n",
       "      <td>0</td>\n",
       "      <td>0</td>\n",
       "      <td>0</td>\n",
       "      <td>1</td>\n",
       "      <td>0</td>\n",
       "    </tr>\n",
       "    <tr>\n",
       "      <th>0021_01</th>\n",
       "      <td>38.0</td>\n",
       "      <td>0.0</td>\n",
       "      <td>6652.0</td>\n",
       "      <td>0.0</td>\n",
       "      <td>181.0</td>\n",
       "      <td>585.0</td>\n",
       "      <td>0</td>\n",
       "      <td>0</td>\n",
       "      <td>0</td>\n",
       "      <td>1</td>\n",
       "      <td>1</td>\n",
       "      <td>0</td>\n",
       "    </tr>\n",
       "    <tr>\n",
       "      <th>0023_01</th>\n",
       "      <td>20.0</td>\n",
       "      <td>10.0</td>\n",
       "      <td>0.0</td>\n",
       "      <td>635.0</td>\n",
       "      <td>0.0</td>\n",
       "      <td>0.0</td>\n",
       "      <td>0</td>\n",
       "      <td>0</td>\n",
       "      <td>0</td>\n",
       "      <td>1</td>\n",
       "      <td>0</td>\n",
       "      <td>0</td>\n",
       "    </tr>\n",
       "    <tr>\n",
       "      <th>...</th>\n",
       "      <td>...</td>\n",
       "      <td>...</td>\n",
       "      <td>...</td>\n",
       "      <td>...</td>\n",
       "      <td>...</td>\n",
       "      <td>...</td>\n",
       "      <td>...</td>\n",
       "      <td>...</td>\n",
       "      <td>...</td>\n",
       "      <td>...</td>\n",
       "      <td>...</td>\n",
       "      <td>...</td>\n",
       "    </tr>\n",
       "    <tr>\n",
       "      <th>9266_02</th>\n",
       "      <td>34.0</td>\n",
       "      <td>0.0</td>\n",
       "      <td>0.0</td>\n",
       "      <td>0.0</td>\n",
       "      <td>0.0</td>\n",
       "      <td>0.0</td>\n",
       "      <td>1</td>\n",
       "      <td>0</td>\n",
       "      <td>0</td>\n",
       "      <td>1</td>\n",
       "      <td>0</td>\n",
       "      <td>0</td>\n",
       "    </tr>\n",
       "    <tr>\n",
       "      <th>9269_01</th>\n",
       "      <td>42.0</td>\n",
       "      <td>0.0</td>\n",
       "      <td>847.0</td>\n",
       "      <td>17.0</td>\n",
       "      <td>10.0</td>\n",
       "      <td>144.0</td>\n",
       "      <td>0</td>\n",
       "      <td>0</td>\n",
       "      <td>0</td>\n",
       "      <td>1</td>\n",
       "      <td>0</td>\n",
       "      <td>0</td>\n",
       "    </tr>\n",
       "    <tr>\n",
       "      <th>9271_01</th>\n",
       "      <td>0.0</td>\n",
       "      <td>0.0</td>\n",
       "      <td>0.0</td>\n",
       "      <td>0.0</td>\n",
       "      <td>0.0</td>\n",
       "      <td>0.0</td>\n",
       "      <td>1</td>\n",
       "      <td>0</td>\n",
       "      <td>0</td>\n",
       "      <td>0</td>\n",
       "      <td>0</td>\n",
       "      <td>1</td>\n",
       "    </tr>\n",
       "    <tr>\n",
       "      <th>9273_01</th>\n",
       "      <td>0.0</td>\n",
       "      <td>0.0</td>\n",
       "      <td>2680.0</td>\n",
       "      <td>0.0</td>\n",
       "      <td>0.0</td>\n",
       "      <td>523.0</td>\n",
       "      <td>0</td>\n",
       "      <td>0</td>\n",
       "      <td>0</td>\n",
       "      <td>0</td>\n",
       "      <td>1</td>\n",
       "      <td>0</td>\n",
       "    </tr>\n",
       "    <tr>\n",
       "      <th>9277_01</th>\n",
       "      <td>43.0</td>\n",
       "      <td>0.0</td>\n",
       "      <td>0.0</td>\n",
       "      <td>0.0</td>\n",
       "      <td>0.0</td>\n",
       "      <td>0.0</td>\n",
       "      <td>1</td>\n",
       "      <td>0</td>\n",
       "      <td>1</td>\n",
       "      <td>0</td>\n",
       "      <td>0</td>\n",
       "      <td>0</td>\n",
       "    </tr>\n",
       "  </tbody>\n",
       "</table>\n",
       "<p>4277 rows × 12 columns</p>\n",
       "</div>"
      ],
      "text/plain": [
       "              Age  RoomService  FoodCourt  ShoppingMall     Spa  VRDeck  \\\n",
       "PassengerId                                                               \n",
       "0013_01      27.0          0.0        0.0           0.0     0.0     0.0   \n",
       "0018_01      19.0          0.0        9.0           0.0  2823.0     0.0   \n",
       "0019_01      31.0          0.0        0.0           0.0     0.0     0.0   \n",
       "0021_01      38.0          0.0     6652.0           0.0   181.0   585.0   \n",
       "0023_01      20.0         10.0        0.0         635.0     0.0     0.0   \n",
       "...           ...          ...        ...           ...     ...     ...   \n",
       "9266_02      34.0          0.0        0.0           0.0     0.0     0.0   \n",
       "9269_01      42.0          0.0      847.0          17.0    10.0   144.0   \n",
       "9271_01       0.0          0.0        0.0           0.0     0.0     0.0   \n",
       "9273_01       0.0          0.0     2680.0           0.0     0.0   523.0   \n",
       "9277_01      43.0          0.0        0.0           0.0     0.0     0.0   \n",
       "\n",
       "             CryoSleep_True  VIP_True  Destination_PSO J318.5-22  \\\n",
       "PassengerId                                                        \n",
       "0013_01                   1         0                          0   \n",
       "0018_01                   0         0                          0   \n",
       "0019_01                   1         0                          0   \n",
       "0021_01                   0         0                          0   \n",
       "0023_01                   0         0                          0   \n",
       "...                     ...       ...                        ...   \n",
       "9266_02                   1         0                          0   \n",
       "9269_01                   0         0                          0   \n",
       "9271_01                   1         0                          0   \n",
       "9273_01                   0         0                          0   \n",
       "9277_01                   1         0                          1   \n",
       "\n",
       "             Destination_TRAPPIST-1e  HomePlanet_Europa  HomePlanet_Mars  \n",
       "PassengerId                                                               \n",
       "0013_01                            1                  0                0  \n",
       "0018_01                            1                  0                0  \n",
       "0019_01                            0                  1                0  \n",
       "0021_01                            1                  1                0  \n",
       "0023_01                            1                  0                0  \n",
       "...                              ...                ...              ...  \n",
       "9266_02                            1                  0                0  \n",
       "9269_01                            1                  0                0  \n",
       "9271_01                            0                  0                1  \n",
       "9273_01                            0                  1                0  \n",
       "9277_01                            0                  0                0  \n",
       "\n",
       "[4277 rows x 12 columns]"
      ]
     },
     "execution_count": 373,
     "metadata": {},
     "output_type": "execute_result"
    }
   ],
   "source": [
    "df_test"
   ]
  },
  {
   "cell_type": "code",
   "execution_count": 374,
   "id": "5b38c1bb",
   "metadata": {},
   "outputs": [
    {
     "data": {
      "text/plain": [
       "Age                            0\n",
       "RoomService                   82\n",
       "FoodCourt                    106\n",
       "ShoppingMall                  98\n",
       "Spa                          101\n",
       "VRDeck                        80\n",
       "CryoSleep_True                 0\n",
       "VIP_True                       0\n",
       "Destination_PSO J318.5-22      0\n",
       "Destination_TRAPPIST-1e        0\n",
       "HomePlanet_Europa              0\n",
       "HomePlanet_Mars                0\n",
       "dtype: int64"
      ]
     },
     "execution_count": 374,
     "metadata": {},
     "output_type": "execute_result"
    }
   ],
   "source": [
    "df_test.isnull().sum()"
   ]
  },
  {
   "cell_type": "code",
   "execution_count": 375,
   "id": "633dbda9",
   "metadata": {},
   "outputs": [],
   "source": [
    "df_test['RoomService']=df_test[['RoomService']].apply(zeromap,axis=1)\n",
    "df_test['FoodCourt']=df_test[['FoodCourt']].apply(zeromap,axis=1)\n",
    "df_test['ShoppingMall']=df_test[['ShoppingMall']].apply(zeromap,axis=1)\n",
    "df_test['Spa']=df_test[['Spa']].apply(zeromap,axis=1)\n",
    "df_test['VRDeck']=df_test[['VRDeck']].apply(zeromap,axis=1)"
   ]
  },
  {
   "cell_type": "code",
   "execution_count": 376,
   "id": "1d07a0dd",
   "metadata": {},
   "outputs": [
    {
     "data": {
      "text/plain": [
       "array([1, 0, 1, ..., 1, 1, 1], dtype=uint8)"
      ]
     },
     "execution_count": 376,
     "metadata": {},
     "output_type": "execute_result"
    }
   ],
   "source": [
    "pred=pipegb.predict(df_test)\n",
    "pred"
   ]
  },
  {
   "cell_type": "code",
   "execution_count": 377,
   "id": "37d916b4",
   "metadata": {},
   "outputs": [
    {
     "data": {
      "text/html": [
       "<div>\n",
       "<style scoped>\n",
       "    .dataframe tbody tr th:only-of-type {\n",
       "        vertical-align: middle;\n",
       "    }\n",
       "\n",
       "    .dataframe tbody tr th {\n",
       "        vertical-align: top;\n",
       "    }\n",
       "\n",
       "    .dataframe thead th {\n",
       "        text-align: right;\n",
       "    }\n",
       "</style>\n",
       "<table border=\"1\" class=\"dataframe\">\n",
       "  <thead>\n",
       "    <tr style=\"text-align: right;\">\n",
       "      <th></th>\n",
       "      <th>PassengerId</th>\n",
       "      <th>Age</th>\n",
       "      <th>RoomService</th>\n",
       "      <th>FoodCourt</th>\n",
       "      <th>ShoppingMall</th>\n",
       "      <th>Spa</th>\n",
       "      <th>VRDeck</th>\n",
       "      <th>CryoSleep_True</th>\n",
       "      <th>VIP_True</th>\n",
       "      <th>Destination_PSO J318.5-22</th>\n",
       "      <th>Destination_TRAPPIST-1e</th>\n",
       "      <th>HomePlanet_Europa</th>\n",
       "      <th>HomePlanet_Mars</th>\n",
       "    </tr>\n",
       "  </thead>\n",
       "  <tbody>\n",
       "    <tr>\n",
       "      <th>0</th>\n",
       "      <td>0013_01</td>\n",
       "      <td>27.0</td>\n",
       "      <td>0.0</td>\n",
       "      <td>0.0</td>\n",
       "      <td>0.0</td>\n",
       "      <td>0.0</td>\n",
       "      <td>0.0</td>\n",
       "      <td>1</td>\n",
       "      <td>0</td>\n",
       "      <td>0</td>\n",
       "      <td>1</td>\n",
       "      <td>0</td>\n",
       "      <td>0</td>\n",
       "    </tr>\n",
       "    <tr>\n",
       "      <th>1</th>\n",
       "      <td>0018_01</td>\n",
       "      <td>19.0</td>\n",
       "      <td>0.0</td>\n",
       "      <td>9.0</td>\n",
       "      <td>0.0</td>\n",
       "      <td>2823.0</td>\n",
       "      <td>0.0</td>\n",
       "      <td>0</td>\n",
       "      <td>0</td>\n",
       "      <td>0</td>\n",
       "      <td>1</td>\n",
       "      <td>0</td>\n",
       "      <td>0</td>\n",
       "    </tr>\n",
       "    <tr>\n",
       "      <th>2</th>\n",
       "      <td>0019_01</td>\n",
       "      <td>31.0</td>\n",
       "      <td>0.0</td>\n",
       "      <td>0.0</td>\n",
       "      <td>0.0</td>\n",
       "      <td>0.0</td>\n",
       "      <td>0.0</td>\n",
       "      <td>1</td>\n",
       "      <td>0</td>\n",
       "      <td>0</td>\n",
       "      <td>0</td>\n",
       "      <td>1</td>\n",
       "      <td>0</td>\n",
       "    </tr>\n",
       "    <tr>\n",
       "      <th>3</th>\n",
       "      <td>0021_01</td>\n",
       "      <td>38.0</td>\n",
       "      <td>0.0</td>\n",
       "      <td>6652.0</td>\n",
       "      <td>0.0</td>\n",
       "      <td>181.0</td>\n",
       "      <td>585.0</td>\n",
       "      <td>0</td>\n",
       "      <td>0</td>\n",
       "      <td>0</td>\n",
       "      <td>1</td>\n",
       "      <td>1</td>\n",
       "      <td>0</td>\n",
       "    </tr>\n",
       "    <tr>\n",
       "      <th>4</th>\n",
       "      <td>0023_01</td>\n",
       "      <td>20.0</td>\n",
       "      <td>10.0</td>\n",
       "      <td>0.0</td>\n",
       "      <td>635.0</td>\n",
       "      <td>0.0</td>\n",
       "      <td>0.0</td>\n",
       "      <td>0</td>\n",
       "      <td>0</td>\n",
       "      <td>0</td>\n",
       "      <td>1</td>\n",
       "      <td>0</td>\n",
       "      <td>0</td>\n",
       "    </tr>\n",
       "    <tr>\n",
       "      <th>...</th>\n",
       "      <td>...</td>\n",
       "      <td>...</td>\n",
       "      <td>...</td>\n",
       "      <td>...</td>\n",
       "      <td>...</td>\n",
       "      <td>...</td>\n",
       "      <td>...</td>\n",
       "      <td>...</td>\n",
       "      <td>...</td>\n",
       "      <td>...</td>\n",
       "      <td>...</td>\n",
       "      <td>...</td>\n",
       "      <td>...</td>\n",
       "    </tr>\n",
       "    <tr>\n",
       "      <th>4272</th>\n",
       "      <td>9266_02</td>\n",
       "      <td>34.0</td>\n",
       "      <td>0.0</td>\n",
       "      <td>0.0</td>\n",
       "      <td>0.0</td>\n",
       "      <td>0.0</td>\n",
       "      <td>0.0</td>\n",
       "      <td>1</td>\n",
       "      <td>0</td>\n",
       "      <td>0</td>\n",
       "      <td>1</td>\n",
       "      <td>0</td>\n",
       "      <td>0</td>\n",
       "    </tr>\n",
       "    <tr>\n",
       "      <th>4273</th>\n",
       "      <td>9269_01</td>\n",
       "      <td>42.0</td>\n",
       "      <td>0.0</td>\n",
       "      <td>847.0</td>\n",
       "      <td>17.0</td>\n",
       "      <td>10.0</td>\n",
       "      <td>144.0</td>\n",
       "      <td>0</td>\n",
       "      <td>0</td>\n",
       "      <td>0</td>\n",
       "      <td>1</td>\n",
       "      <td>0</td>\n",
       "      <td>0</td>\n",
       "    </tr>\n",
       "    <tr>\n",
       "      <th>4274</th>\n",
       "      <td>9271_01</td>\n",
       "      <td>0.0</td>\n",
       "      <td>0.0</td>\n",
       "      <td>0.0</td>\n",
       "      <td>0.0</td>\n",
       "      <td>0.0</td>\n",
       "      <td>0.0</td>\n",
       "      <td>1</td>\n",
       "      <td>0</td>\n",
       "      <td>0</td>\n",
       "      <td>0</td>\n",
       "      <td>0</td>\n",
       "      <td>1</td>\n",
       "    </tr>\n",
       "    <tr>\n",
       "      <th>4275</th>\n",
       "      <td>9273_01</td>\n",
       "      <td>0.0</td>\n",
       "      <td>0.0</td>\n",
       "      <td>2680.0</td>\n",
       "      <td>0.0</td>\n",
       "      <td>0.0</td>\n",
       "      <td>523.0</td>\n",
       "      <td>0</td>\n",
       "      <td>0</td>\n",
       "      <td>0</td>\n",
       "      <td>0</td>\n",
       "      <td>1</td>\n",
       "      <td>0</td>\n",
       "    </tr>\n",
       "    <tr>\n",
       "      <th>4276</th>\n",
       "      <td>9277_01</td>\n",
       "      <td>43.0</td>\n",
       "      <td>0.0</td>\n",
       "      <td>0.0</td>\n",
       "      <td>0.0</td>\n",
       "      <td>0.0</td>\n",
       "      <td>0.0</td>\n",
       "      <td>1</td>\n",
       "      <td>0</td>\n",
       "      <td>1</td>\n",
       "      <td>0</td>\n",
       "      <td>0</td>\n",
       "      <td>0</td>\n",
       "    </tr>\n",
       "  </tbody>\n",
       "</table>\n",
       "<p>4277 rows × 13 columns</p>\n",
       "</div>"
      ],
      "text/plain": [
       "     PassengerId   Age  RoomService  FoodCourt  ShoppingMall     Spa  VRDeck  \\\n",
       "0        0013_01  27.0          0.0        0.0           0.0     0.0     0.0   \n",
       "1        0018_01  19.0          0.0        9.0           0.0  2823.0     0.0   \n",
       "2        0019_01  31.0          0.0        0.0           0.0     0.0     0.0   \n",
       "3        0021_01  38.0          0.0     6652.0           0.0   181.0   585.0   \n",
       "4        0023_01  20.0         10.0        0.0         635.0     0.0     0.0   \n",
       "...          ...   ...          ...        ...           ...     ...     ...   \n",
       "4272     9266_02  34.0          0.0        0.0           0.0     0.0     0.0   \n",
       "4273     9269_01  42.0          0.0      847.0          17.0    10.0   144.0   \n",
       "4274     9271_01   0.0          0.0        0.0           0.0     0.0     0.0   \n",
       "4275     9273_01   0.0          0.0     2680.0           0.0     0.0   523.0   \n",
       "4276     9277_01  43.0          0.0        0.0           0.0     0.0     0.0   \n",
       "\n",
       "      CryoSleep_True  VIP_True  Destination_PSO J318.5-22  \\\n",
       "0                  1         0                          0   \n",
       "1                  0         0                          0   \n",
       "2                  1         0                          0   \n",
       "3                  0         0                          0   \n",
       "4                  0         0                          0   \n",
       "...              ...       ...                        ...   \n",
       "4272               1         0                          0   \n",
       "4273               0         0                          0   \n",
       "4274               1         0                          0   \n",
       "4275               0         0                          0   \n",
       "4276               1         0                          1   \n",
       "\n",
       "      Destination_TRAPPIST-1e  HomePlanet_Europa  HomePlanet_Mars  \n",
       "0                           1                  0                0  \n",
       "1                           1                  0                0  \n",
       "2                           0                  1                0  \n",
       "3                           1                  1                0  \n",
       "4                           1                  0                0  \n",
       "...                       ...                ...              ...  \n",
       "4272                        1                  0                0  \n",
       "4273                        1                  0                0  \n",
       "4274                        0                  0                1  \n",
       "4275                        0                  1                0  \n",
       "4276                        0                  0                0  \n",
       "\n",
       "[4277 rows x 13 columns]"
      ]
     },
     "execution_count": 377,
     "metadata": {},
     "output_type": "execute_result"
    }
   ],
   "source": [
    "dft=df_test.reset_index()\n",
    "dft"
   ]
  },
  {
   "cell_type": "code",
   "execution_count": 378,
   "id": "30b5aef6",
   "metadata": {},
   "outputs": [
    {
     "data": {
      "text/html": [
       "<div>\n",
       "<style scoped>\n",
       "    .dataframe tbody tr th:only-of-type {\n",
       "        vertical-align: middle;\n",
       "    }\n",
       "\n",
       "    .dataframe tbody tr th {\n",
       "        vertical-align: top;\n",
       "    }\n",
       "\n",
       "    .dataframe thead th {\n",
       "        text-align: right;\n",
       "    }\n",
       "</style>\n",
       "<table border=\"1\" class=\"dataframe\">\n",
       "  <thead>\n",
       "    <tr style=\"text-align: right;\">\n",
       "      <th></th>\n",
       "      <th>PassengerId</th>\n",
       "      <th>0</th>\n",
       "    </tr>\n",
       "  </thead>\n",
       "  <tbody>\n",
       "    <tr>\n",
       "      <th>0</th>\n",
       "      <td>0013_01</td>\n",
       "      <td>1</td>\n",
       "    </tr>\n",
       "    <tr>\n",
       "      <th>1</th>\n",
       "      <td>0018_01</td>\n",
       "      <td>0</td>\n",
       "    </tr>\n",
       "    <tr>\n",
       "      <th>2</th>\n",
       "      <td>0019_01</td>\n",
       "      <td>1</td>\n",
       "    </tr>\n",
       "    <tr>\n",
       "      <th>3</th>\n",
       "      <td>0021_01</td>\n",
       "      <td>1</td>\n",
       "    </tr>\n",
       "    <tr>\n",
       "      <th>4</th>\n",
       "      <td>0023_01</td>\n",
       "      <td>1</td>\n",
       "    </tr>\n",
       "    <tr>\n",
       "      <th>...</th>\n",
       "      <td>...</td>\n",
       "      <td>...</td>\n",
       "    </tr>\n",
       "    <tr>\n",
       "      <th>4272</th>\n",
       "      <td>9266_02</td>\n",
       "      <td>1</td>\n",
       "    </tr>\n",
       "    <tr>\n",
       "      <th>4273</th>\n",
       "      <td>9269_01</td>\n",
       "      <td>0</td>\n",
       "    </tr>\n",
       "    <tr>\n",
       "      <th>4274</th>\n",
       "      <td>9271_01</td>\n",
       "      <td>1</td>\n",
       "    </tr>\n",
       "    <tr>\n",
       "      <th>4275</th>\n",
       "      <td>9273_01</td>\n",
       "      <td>1</td>\n",
       "    </tr>\n",
       "    <tr>\n",
       "      <th>4276</th>\n",
       "      <td>9277_01</td>\n",
       "      <td>1</td>\n",
       "    </tr>\n",
       "  </tbody>\n",
       "</table>\n",
       "<p>4277 rows × 2 columns</p>\n",
       "</div>"
      ],
      "text/plain": [
       "     PassengerId  0\n",
       "0        0013_01  1\n",
       "1        0018_01  0\n",
       "2        0019_01  1\n",
       "3        0021_01  1\n",
       "4        0023_01  1\n",
       "...          ... ..\n",
       "4272     9266_02  1\n",
       "4273     9269_01  0\n",
       "4274     9271_01  1\n",
       "4275     9273_01  1\n",
       "4276     9277_01  1\n",
       "\n",
       "[4277 rows x 2 columns]"
      ]
     },
     "execution_count": 378,
     "metadata": {},
     "output_type": "execute_result"
    }
   ],
   "source": [
    "answer=pd.concat([dft['PassengerId'],pd.DataFrame(pred)],axis=1)\n",
    "answer"
   ]
  },
  {
   "cell_type": "code",
   "execution_count": 379,
   "id": "c01a13ab",
   "metadata": {},
   "outputs": [
    {
     "data": {
      "text/html": [
       "<div>\n",
       "<style scoped>\n",
       "    .dataframe tbody tr th:only-of-type {\n",
       "        vertical-align: middle;\n",
       "    }\n",
       "\n",
       "    .dataframe tbody tr th {\n",
       "        vertical-align: top;\n",
       "    }\n",
       "\n",
       "    .dataframe thead th {\n",
       "        text-align: right;\n",
       "    }\n",
       "</style>\n",
       "<table border=\"1\" class=\"dataframe\">\n",
       "  <thead>\n",
       "    <tr style=\"text-align: right;\">\n",
       "      <th></th>\n",
       "      <th>PassengerId</th>\n",
       "      <th>Transported</th>\n",
       "    </tr>\n",
       "  </thead>\n",
       "  <tbody>\n",
       "    <tr>\n",
       "      <th>0</th>\n",
       "      <td>0013_01</td>\n",
       "      <td>1</td>\n",
       "    </tr>\n",
       "    <tr>\n",
       "      <th>1</th>\n",
       "      <td>0018_01</td>\n",
       "      <td>0</td>\n",
       "    </tr>\n",
       "    <tr>\n",
       "      <th>2</th>\n",
       "      <td>0019_01</td>\n",
       "      <td>1</td>\n",
       "    </tr>\n",
       "    <tr>\n",
       "      <th>3</th>\n",
       "      <td>0021_01</td>\n",
       "      <td>1</td>\n",
       "    </tr>\n",
       "    <tr>\n",
       "      <th>4</th>\n",
       "      <td>0023_01</td>\n",
       "      <td>1</td>\n",
       "    </tr>\n",
       "    <tr>\n",
       "      <th>...</th>\n",
       "      <td>...</td>\n",
       "      <td>...</td>\n",
       "    </tr>\n",
       "    <tr>\n",
       "      <th>4272</th>\n",
       "      <td>9266_02</td>\n",
       "      <td>1</td>\n",
       "    </tr>\n",
       "    <tr>\n",
       "      <th>4273</th>\n",
       "      <td>9269_01</td>\n",
       "      <td>0</td>\n",
       "    </tr>\n",
       "    <tr>\n",
       "      <th>4274</th>\n",
       "      <td>9271_01</td>\n",
       "      <td>1</td>\n",
       "    </tr>\n",
       "    <tr>\n",
       "      <th>4275</th>\n",
       "      <td>9273_01</td>\n",
       "      <td>1</td>\n",
       "    </tr>\n",
       "    <tr>\n",
       "      <th>4276</th>\n",
       "      <td>9277_01</td>\n",
       "      <td>1</td>\n",
       "    </tr>\n",
       "  </tbody>\n",
       "</table>\n",
       "<p>4277 rows × 2 columns</p>\n",
       "</div>"
      ],
      "text/plain": [
       "     PassengerId  Transported\n",
       "0        0013_01            1\n",
       "1        0018_01            0\n",
       "2        0019_01            1\n",
       "3        0021_01            1\n",
       "4        0023_01            1\n",
       "...          ...          ...\n",
       "4272     9266_02            1\n",
       "4273     9269_01            0\n",
       "4274     9271_01            1\n",
       "4275     9273_01            1\n",
       "4276     9277_01            1\n",
       "\n",
       "[4277 rows x 2 columns]"
      ]
     },
     "execution_count": 379,
     "metadata": {},
     "output_type": "execute_result"
    }
   ],
   "source": [
    "answer.columns=['PassengerId','Transported']\n",
    "answer"
   ]
  },
  {
   "cell_type": "code",
   "execution_count": 380,
   "id": "4eb243ee",
   "metadata": {},
   "outputs": [],
   "source": [
    "def trans(x):\n",
    "    if x == 0:\n",
    "        return False\n",
    "    else:\n",
    "        return True"
   ]
  },
  {
   "cell_type": "code",
   "execution_count": 381,
   "id": "7d86e4af",
   "metadata": {},
   "outputs": [
    {
     "data": {
      "text/html": [
       "<div>\n",
       "<style scoped>\n",
       "    .dataframe tbody tr th:only-of-type {\n",
       "        vertical-align: middle;\n",
       "    }\n",
       "\n",
       "    .dataframe tbody tr th {\n",
       "        vertical-align: top;\n",
       "    }\n",
       "\n",
       "    .dataframe thead th {\n",
       "        text-align: right;\n",
       "    }\n",
       "</style>\n",
       "<table border=\"1\" class=\"dataframe\">\n",
       "  <thead>\n",
       "    <tr style=\"text-align: right;\">\n",
       "      <th></th>\n",
       "      <th>PassengerId</th>\n",
       "      <th>Transported</th>\n",
       "    </tr>\n",
       "  </thead>\n",
       "  <tbody>\n",
       "    <tr>\n",
       "      <th>0</th>\n",
       "      <td>0013_01</td>\n",
       "      <td>True</td>\n",
       "    </tr>\n",
       "    <tr>\n",
       "      <th>1</th>\n",
       "      <td>0018_01</td>\n",
       "      <td>False</td>\n",
       "    </tr>\n",
       "    <tr>\n",
       "      <th>2</th>\n",
       "      <td>0019_01</td>\n",
       "      <td>True</td>\n",
       "    </tr>\n",
       "    <tr>\n",
       "      <th>3</th>\n",
       "      <td>0021_01</td>\n",
       "      <td>True</td>\n",
       "    </tr>\n",
       "    <tr>\n",
       "      <th>4</th>\n",
       "      <td>0023_01</td>\n",
       "      <td>True</td>\n",
       "    </tr>\n",
       "    <tr>\n",
       "      <th>...</th>\n",
       "      <td>...</td>\n",
       "      <td>...</td>\n",
       "    </tr>\n",
       "    <tr>\n",
       "      <th>4272</th>\n",
       "      <td>9266_02</td>\n",
       "      <td>True</td>\n",
       "    </tr>\n",
       "    <tr>\n",
       "      <th>4273</th>\n",
       "      <td>9269_01</td>\n",
       "      <td>False</td>\n",
       "    </tr>\n",
       "    <tr>\n",
       "      <th>4274</th>\n",
       "      <td>9271_01</td>\n",
       "      <td>True</td>\n",
       "    </tr>\n",
       "    <tr>\n",
       "      <th>4275</th>\n",
       "      <td>9273_01</td>\n",
       "      <td>True</td>\n",
       "    </tr>\n",
       "    <tr>\n",
       "      <th>4276</th>\n",
       "      <td>9277_01</td>\n",
       "      <td>True</td>\n",
       "    </tr>\n",
       "  </tbody>\n",
       "</table>\n",
       "<p>4277 rows × 2 columns</p>\n",
       "</div>"
      ],
      "text/plain": [
       "     PassengerId  Transported\n",
       "0        0013_01         True\n",
       "1        0018_01        False\n",
       "2        0019_01         True\n",
       "3        0021_01         True\n",
       "4        0023_01         True\n",
       "...          ...          ...\n",
       "4272     9266_02         True\n",
       "4273     9269_01        False\n",
       "4274     9271_01         True\n",
       "4275     9273_01         True\n",
       "4276     9277_01         True\n",
       "\n",
       "[4277 rows x 2 columns]"
      ]
     },
     "execution_count": 381,
     "metadata": {},
     "output_type": "execute_result"
    }
   ],
   "source": [
    "answer['Transported']=answer['Transported'].apply(trans)\n",
    "answer"
   ]
  },
  {
   "cell_type": "code",
   "execution_count": 382,
   "id": "88026428",
   "metadata": {},
   "outputs": [],
   "source": [
    "answer.to_csv('submission.csv',index=False)"
   ]
  },
  {
   "cell_type": "code",
   "execution_count": null,
   "id": "0cc249c9",
   "metadata": {},
   "outputs": [],
   "source": []
  },
  {
   "cell_type": "code",
   "execution_count": null,
   "id": "1a65c3e4",
   "metadata": {},
   "outputs": [],
   "source": []
  },
  {
   "cell_type": "code",
   "execution_count": null,
   "id": "beb92905",
   "metadata": {},
   "outputs": [],
   "source": []
  },
  {
   "cell_type": "code",
   "execution_count": null,
   "id": "bbcc7c9a",
   "metadata": {},
   "outputs": [],
   "source": []
  },
  {
   "cell_type": "code",
   "execution_count": null,
   "id": "e1d3532a",
   "metadata": {},
   "outputs": [],
   "source": []
  },
  {
   "cell_type": "code",
   "execution_count": null,
   "id": "ca9408b8",
   "metadata": {},
   "outputs": [],
   "source": []
  },
  {
   "cell_type": "code",
   "execution_count": null,
   "id": "b68d5eea",
   "metadata": {},
   "outputs": [],
   "source": []
  },
  {
   "cell_type": "code",
   "execution_count": null,
   "id": "d31e4392",
   "metadata": {},
   "outputs": [],
   "source": []
  },
  {
   "cell_type": "code",
   "execution_count": null,
   "id": "026f2fb1",
   "metadata": {},
   "outputs": [],
   "source": []
  },
  {
   "cell_type": "code",
   "execution_count": null,
   "id": "7fa6be5a",
   "metadata": {},
   "outputs": [],
   "source": []
  },
  {
   "cell_type": "code",
   "execution_count": null,
   "id": "59e32278",
   "metadata": {},
   "outputs": [],
   "source": []
  },
  {
   "cell_type": "code",
   "execution_count": null,
   "id": "5ce4a3b5",
   "metadata": {},
   "outputs": [],
   "source": []
  },
  {
   "cell_type": "code",
   "execution_count": null,
   "id": "daf54547",
   "metadata": {},
   "outputs": [],
   "source": []
  },
  {
   "cell_type": "code",
   "execution_count": null,
   "id": "73619c94",
   "metadata": {},
   "outputs": [],
   "source": []
  },
  {
   "cell_type": "code",
   "execution_count": null,
   "id": "75c050c6",
   "metadata": {},
   "outputs": [],
   "source": []
  }
 ],
 "metadata": {
  "kernelspec": {
   "display_name": "Python 3 (ipykernel)",
   "language": "python",
   "name": "python3"
  },
  "language_info": {
   "codemirror_mode": {
    "name": "ipython",
    "version": 3
   },
   "file_extension": ".py",
   "mimetype": "text/x-python",
   "name": "python",
   "nbconvert_exporter": "python",
   "pygments_lexer": "ipython3",
   "version": "3.10.2"
  }
 },
 "nbformat": 4,
 "nbformat_minor": 5
}
